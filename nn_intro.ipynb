{
 "cells": [
  {
   "cell_type": "code",
   "execution_count": 5,
   "metadata": {},
   "outputs": [
    {
     "data": {
      "text/plain": [
       "array([False, False])"
      ]
     },
     "execution_count": 5,
     "metadata": {},
     "output_type": "execute_result"
    }
   ],
   "source": [
    "import numpy as np\n",
    "from sklearn.datasets import load_iris\n",
    "from sklearn.linear_model import Perceptron\n",
    "\n",
    "iris = load_iris(as_frame=True)\n",
    "X = iris.data[[\"petal length (cm)\", \"petal width (cm)\"]].values\n",
    "y = (iris.target == 0)\n",
    "\n",
    "per_clf = Perceptron()\n",
    "per_clf.fit(X, y)\n",
    "\n",
    "X_new = [[2, 0.5], [3, 1]]\n",
    "y_pred = per_clf.predict(X_new)\n",
    "y_pred"
   ]
  },
  {
   "cell_type": "code",
   "execution_count": 6,
   "metadata": {},
   "outputs": [
    {
     "data": {
      "text/plain": [
       "0.5449239817402899"
      ]
     },
     "execution_count": 6,
     "metadata": {},
     "output_type": "execute_result"
    }
   ],
   "source": [
    "# a multi-layer perceptron for regression of housing prices\n",
    "from sklearn.datasets import fetch_california_housing\n",
    "from sklearn.metrics import mean_squared_error\n",
    "from sklearn.model_selection import train_test_split\n",
    "from sklearn.neural_network import MLPRegressor\n",
    "from sklearn.pipeline import make_pipeline\n",
    "from sklearn.preprocessing import StandardScaler\n",
    "\n",
    "housing = fetch_california_housing()\n",
    "X_train_full, X_test, y_train_full, y_test = train_test_split(housing.data, housing.target)\n",
    "X_train, X_valid, y_train, y_valid = train_test_split(X_train_full, y_train_full)\n",
    "mlp_reg = MLPRegressor(hidden_layer_sizes=[50, 50, 50])\n",
    "pipeline = make_pipeline(StandardScaler(), mlp_reg)\n",
    "pipeline.fit(X_train, y_train)\n",
    "y_pred = pipeline.predict(X_valid)\n",
    "rmse = mean_squared_error(y_valid, y_pred, squared=False)\n",
    "rmse"
   ]
  },
  {
   "cell_type": "code",
   "execution_count": 3,
   "metadata": {},
   "outputs": [
    {
     "name": "stderr",
     "output_type": "stream",
     "text": [
      "/home/user/.local/lib/python3.10/site-packages/sklearn/neural_network/_multilayer_perceptron.py:684: ConvergenceWarning: Stochastic Optimizer: Maximum iterations (200) reached and the optimization hasn't converged yet.\n",
      "  warnings.warn(\n"
     ]
    },
    {
     "data": {
      "text/plain": [
       "0.631578947368421"
      ]
     },
     "execution_count": 3,
     "metadata": {},
     "output_type": "execute_result"
    }
   ],
   "source": [
    "# a multi-layer perceptron for classication of iris dataset\n",
    "from sklearn.neural_network import MLPClassifier\n",
    "from sklearn.metrics import accuracy_score\n",
    "\n",
    "X = iris.data[[\"petal length (cm)\", \"petal width (cm)\"]].values\n",
    "y = iris.target\n",
    "X_train, X_test, y_train, y_test = train_test_split(X, y)\n",
    "\n",
    "mlp_clf = MLPClassifier(hidden_layer_sizes=[10])\n",
    "pipeline = make_pipeline(StandardScaler(), mlp_clf)\n",
    "pipeline.fit(X_train, y_train)\n",
    "\n",
    "y_pred = pipeline.predict(X_test)\n",
    "accuracy_score(y_pred, y_test)"
   ]
  },
  {
   "cell_type": "code",
   "execution_count": 37,
   "metadata": {},
   "outputs": [],
   "source": [
    "import tensorflow as tf\n",
    "\n",
    "fashion_mnist = tf.keras.datasets.fashion_mnist.load_data()\n",
    "(X_train_full, y_train_full), (X_test, y_test) = fashion_mnist\n",
    "X_train, y_train = X_train_full[:-5000], y_train_full[:-5000]\n",
    "X_valid, y_valid = X_train_full[-5000:], y_train_full[-5000:]"
   ]
  },
  {
   "cell_type": "code",
   "execution_count": 38,
   "metadata": {},
   "outputs": [
    {
     "data": {
      "text/plain": [
       "'Ankle boot'"
      ]
     },
     "execution_count": 38,
     "metadata": {},
     "output_type": "execute_result"
    }
   ],
   "source": [
    "X_train, X_valid, X_test = X_train / 255., X_valid / 255., X_test / 255.\n",
    "class_names = [\"T-shirt\", \"Trouser\", \"Pullover\", \"Dress\", \"Coat\", \"Sandal\", \"Shirt\", \"Sneaker\", \"Bag\", \"Ankle boot\"]\n",
    "class_names[y_train[0]]"
   ]
  },
  {
   "cell_type": "code",
   "execution_count": 39,
   "metadata": {},
   "outputs": [
    {
     "name": "stdout",
     "output_type": "stream",
     "text": [
      "Model: \"sequential_1\"\n",
      "_________________________________________________________________\n",
      " Layer (type)                Output Shape              Param #   \n",
      "=================================================================\n",
      " flatten (Flatten)           (None, 784)               0         \n",
      "                                                                 \n",
      " dense_46 (Dense)            (None, 300)               235500    \n",
      "                                                                 \n",
      " dense_47 (Dense)            (None, 100)               30100     \n",
      "                                                                 \n",
      " dense_48 (Dense)            (None, 10)                1010      \n",
      "                                                                 \n",
      "=================================================================\n",
      "Total params: 266,610\n",
      "Trainable params: 266,610\n",
      "Non-trainable params: 0\n",
      "_________________________________________________________________\n"
     ]
    }
   ],
   "source": [
    "# simple classification MLP\n",
    "tf.keras.utils.set_random_seed(0)\n",
    "model = tf.keras.Sequential([\n",
    "    tf.keras.layers.Input(shape=[28, 28]),\n",
    "    tf.keras.layers.Flatten(),\n",
    "    tf.keras.layers.Dense(300, activation=\"relu\"),\n",
    "    tf.keras.layers.Dense(100, activation=\"relu\"),\n",
    "    tf.keras.layers.Dense(10, activation=\"softmax\")\n",
    "])\n",
    "model.summary()"
   ]
  },
  {
   "cell_type": "code",
   "execution_count": 7,
   "metadata": {},
   "outputs": [
    {
     "name": "stdout",
     "output_type": "stream",
     "text": [
      "Epoch 1/30\n"
     ]
    },
    {
     "name": "stderr",
     "output_type": "stream",
     "text": [
      "2023-03-03 08:13:25.912193: I tensorflow/compiler/xla/service/service.cc:173] XLA service 0x7f0ccc024a00 initialized for platform CUDA (this does not guarantee that XLA will be used). Devices:\n",
      "2023-03-03 08:13:25.912228: I tensorflow/compiler/xla/service/service.cc:181]   StreamExecutor device (0): Quadro M2000M, Compute Capability 5.0\n",
      "2023-03-03 08:13:26.282484: I tensorflow/compiler/jit/xla_compilation_cache.cc:477] Compiled cluster using XLA!  This line is logged at most once for the lifetime of the process.\n"
     ]
    },
    {
     "name": "stdout",
     "output_type": "stream",
     "text": [
      "1719/1719 [==============================] - 7s 3ms/step - loss: 0.7164 - accuracy: 0.7620 - val_loss: 0.5085 - val_accuracy: 0.8184\n",
      "Epoch 2/30\n",
      "1719/1719 [==============================] - 4s 2ms/step - loss: 0.4886 - accuracy: 0.8312 - val_loss: 0.4557 - val_accuracy: 0.8380\n",
      "Epoch 3/30\n",
      "1719/1719 [==============================] - 4s 3ms/step - loss: 0.4428 - accuracy: 0.8455 - val_loss: 0.4588 - val_accuracy: 0.8392\n",
      "Epoch 4/30\n",
      "1719/1719 [==============================] - 4s 3ms/step - loss: 0.4157 - accuracy: 0.8549 - val_loss: 0.4020 - val_accuracy: 0.8576\n",
      "Epoch 5/30\n",
      "1719/1719 [==============================] - 4s 2ms/step - loss: 0.3950 - accuracy: 0.8618 - val_loss: 0.3889 - val_accuracy: 0.8616\n",
      "Epoch 6/30\n",
      "1719/1719 [==============================] - 4s 3ms/step - loss: 0.3784 - accuracy: 0.8667 - val_loss: 0.3802 - val_accuracy: 0.8636\n",
      "Epoch 7/30\n",
      "1719/1719 [==============================] - 4s 2ms/step - loss: 0.3637 - accuracy: 0.8711 - val_loss: 0.3839 - val_accuracy: 0.8656\n",
      "Epoch 8/30\n",
      "1719/1719 [==============================] - 4s 2ms/step - loss: 0.3524 - accuracy: 0.8757 - val_loss: 0.3551 - val_accuracy: 0.8716\n",
      "Epoch 9/30\n",
      "1719/1719 [==============================] - 4s 2ms/step - loss: 0.3411 - accuracy: 0.8786 - val_loss: 0.3485 - val_accuracy: 0.8740\n",
      "Epoch 10/30\n",
      "1719/1719 [==============================] - 4s 2ms/step - loss: 0.3313 - accuracy: 0.8819 - val_loss: 0.3486 - val_accuracy: 0.8760\n",
      "Epoch 11/30\n",
      "1719/1719 [==============================] - 4s 2ms/step - loss: 0.3235 - accuracy: 0.8845 - val_loss: 0.3477 - val_accuracy: 0.8752\n",
      "Epoch 12/30\n",
      "1719/1719 [==============================] - 4s 2ms/step - loss: 0.3147 - accuracy: 0.8882 - val_loss: 0.3363 - val_accuracy: 0.8804\n",
      "Epoch 13/30\n",
      "1719/1719 [==============================] - 4s 2ms/step - loss: 0.3075 - accuracy: 0.8892 - val_loss: 0.3375 - val_accuracy: 0.8746\n",
      "Epoch 14/30\n",
      "1719/1719 [==============================] - 4s 2ms/step - loss: 0.2998 - accuracy: 0.8935 - val_loss: 0.3289 - val_accuracy: 0.8808\n",
      "Epoch 15/30\n",
      "1719/1719 [==============================] - 4s 2ms/step - loss: 0.2937 - accuracy: 0.8950 - val_loss: 0.3522 - val_accuracy: 0.8794\n",
      "Epoch 16/30\n",
      "1719/1719 [==============================] - 4s 2ms/step - loss: 0.2872 - accuracy: 0.8978 - val_loss: 0.3496 - val_accuracy: 0.8730\n",
      "Epoch 17/30\n",
      "1719/1719 [==============================] - 4s 3ms/step - loss: 0.2823 - accuracy: 0.8985 - val_loss: 0.3165 - val_accuracy: 0.8830\n",
      "Epoch 18/30\n",
      "1719/1719 [==============================] - 4s 3ms/step - loss: 0.2752 - accuracy: 0.9018 - val_loss: 0.3326 - val_accuracy: 0.8796\n",
      "Epoch 19/30\n",
      "1719/1719 [==============================] - 4s 3ms/step - loss: 0.2712 - accuracy: 0.9029 - val_loss: 0.3251 - val_accuracy: 0.8838\n",
      "Epoch 20/30\n",
      "1719/1719 [==============================] - 4s 2ms/step - loss: 0.2642 - accuracy: 0.9063 - val_loss: 0.3099 - val_accuracy: 0.8872\n",
      "Epoch 21/30\n",
      "1719/1719 [==============================] - 4s 2ms/step - loss: 0.2598 - accuracy: 0.9075 - val_loss: 0.3137 - val_accuracy: 0.8856\n",
      "Epoch 22/30\n",
      "1719/1719 [==============================] - 4s 2ms/step - loss: 0.2558 - accuracy: 0.9088 - val_loss: 0.3108 - val_accuracy: 0.8884\n",
      "Epoch 23/30\n",
      "1719/1719 [==============================] - 4s 2ms/step - loss: 0.2514 - accuracy: 0.9098 - val_loss: 0.3264 - val_accuracy: 0.8790\n",
      "Epoch 24/30\n",
      "1719/1719 [==============================] - 5s 3ms/step - loss: 0.2472 - accuracy: 0.9111 - val_loss: 0.3055 - val_accuracy: 0.8874\n",
      "Epoch 25/30\n",
      "1719/1719 [==============================] - 5s 3ms/step - loss: 0.2420 - accuracy: 0.9129 - val_loss: 0.3122 - val_accuracy: 0.8856\n",
      "Epoch 26/30\n",
      "1719/1719 [==============================] - 4s 3ms/step - loss: 0.2375 - accuracy: 0.9144 - val_loss: 0.3518 - val_accuracy: 0.8806\n",
      "Epoch 27/30\n",
      "1719/1719 [==============================] - 4s 3ms/step - loss: 0.2338 - accuracy: 0.9173 - val_loss: 0.3122 - val_accuracy: 0.8866\n",
      "Epoch 28/30\n",
      "1719/1719 [==============================] - 4s 3ms/step - loss: 0.2304 - accuracy: 0.9175 - val_loss: 0.3188 - val_accuracy: 0.8838\n",
      "Epoch 29/30\n",
      "1719/1719 [==============================] - 4s 3ms/step - loss: 0.2264 - accuracy: 0.9188 - val_loss: 0.3144 - val_accuracy: 0.8898\n",
      "Epoch 30/30\n",
      "1719/1719 [==============================] - 4s 2ms/step - loss: 0.2230 - accuracy: 0.9203 - val_loss: 0.3134 - val_accuracy: 0.8874\n"
     ]
    }
   ],
   "source": [
    "model.compile(loss=\"sparse_categorical_crossentropy\", optimizer=\"sgd\", metrics=[\"accuracy\"])\n",
    "history = model.fit(X_train, y_train, epochs=30, validation_data=(X_valid, y_valid))"
   ]
  },
  {
   "cell_type": "code",
   "execution_count": 8,
   "metadata": {},
   "outputs": [
    {
     "data": {
      "image/png": "[encoded data removed]",
      "text/plain": [
       "<Figure size 800x500 with 1 Axes>"
      ]
     },
     "metadata": {},
     "output_type": "display_data"
    }
   ],
   "source": [
    "import matplotlib.pyplot as plt\n",
    "import pandas as pd\n",
    "\n",
    "pd.DataFrame(history.history).plot(\n",
    "    figsize=(8, 5),\n",
    "    xlim=[0, 29],\n",
    "    ylim=[0, 1],\n",
    "    grid=True,\n",
    "    xlabel=\"Epoch\",\n",
    "    style=[\"r--\", \"r--.\", \"b-\", \"b-*\"]\n",
    ")\n",
    "plt.show()"
   ]
  },
  {
   "cell_type": "code",
   "execution_count": 9,
   "metadata": {},
   "outputs": [
    {
     "name": "stdout",
     "output_type": "stream",
     "text": [
      "313/313 [==============================] - 1s 3ms/step - loss: 0.3344 - accuracy: 0.8797\n"
     ]
    },
    {
     "data": {
      "text/plain": [
       "[0.3344193994998932, 0.8797000050544739]"
      ]
     },
     "execution_count": 9,
     "metadata": {},
     "output_type": "execute_result"
    }
   ],
   "source": [
    "model.evaluate(X_test, y_test)"
   ]
  },
  {
   "cell_type": "code",
   "execution_count": 10,
   "metadata": {},
   "outputs": [
    {
     "name": "stdout",
     "output_type": "stream",
     "text": [
      "1/1 [==============================] - 0s 79ms/step\n"
     ]
    },
    {
     "data": {
      "text/plain": [
       "array([[0.  , 0.  , 0.  , 0.  , 0.  , 0.01, 0.  , 0.01, 0.  , 0.98],\n",
       "       [0.  , 0.  , 1.  , 0.  , 0.  , 0.  , 0.  , 0.  , 0.  , 0.  ],\n",
       "       [0.  , 1.  , 0.  , 0.  , 0.  , 0.  , 0.  , 0.  , 0.  , 0.  ],\n",
       "       [0.  , 1.  , 0.  , 0.  , 0.  , 0.  , 0.  , 0.  , 0.  , 0.  ],\n",
       "       [0.26, 0.  , 0.02, 0.  , 0.  , 0.  , 0.72, 0.  , 0.  , 0.  ]],\n",
       "      dtype=float32)"
      ]
     },
     "execution_count": 10,
     "metadata": {},
     "output_type": "execute_result"
    }
   ],
   "source": [
    "y_proba = model.predict(X_test[:5])\n",
    "y_proba.round(2)"
   ]
  },
  {
   "cell_type": "code",
   "execution_count": 11,
   "metadata": {},
   "outputs": [
    {
     "data": {
      "text/plain": [
       "array([9, 2, 1, 1, 6])"
      ]
     },
     "execution_count": 11,
     "metadata": {},
     "output_type": "execute_result"
    }
   ],
   "source": [
    "y_pred = y_proba.argmax(axis=-1)\n",
    "y_pred"
   ]
  },
  {
   "cell_type": "code",
   "execution_count": 12,
   "metadata": {},
   "outputs": [
    {
     "data": {
      "text/plain": [
       "array([9, 2, 1, 1, 6], dtype=uint8)"
      ]
     },
     "execution_count": 12,
     "metadata": {},
     "output_type": "execute_result"
    }
   ],
   "source": [
    "y_test[:5]"
   ]
  },
  {
   "cell_type": "code",
   "execution_count": 8,
   "metadata": {},
   "outputs": [
    {
     "name": "stderr",
     "output_type": "stream",
     "text": [
      "2023-03-03 08:20:42.184733: I tensorflow/compiler/xla/stream_executor/cuda/cuda_gpu_executor.cc:981] successful NUMA node read from SysFS had negative value (-1), but there must be at least one NUMA node, so returning NUMA node zero\n",
      "2023-03-03 08:20:42.191130: I tensorflow/compiler/xla/stream_executor/cuda/cuda_gpu_executor.cc:981] successful NUMA node read from SysFS had negative value (-1), but there must be at least one NUMA node, so returning NUMA node zero\n",
      "2023-03-03 08:20:42.191499: I tensorflow/compiler/xla/stream_executor/cuda/cuda_gpu_executor.cc:981] successful NUMA node read from SysFS had negative value (-1), but there must be at least one NUMA node, so returning NUMA node zero\n",
      "2023-03-03 08:20:42.192003: I tensorflow/core/platform/cpu_feature_guard.cc:193] This TensorFlow binary is optimized with oneAPI Deep Neural Network Library (oneDNN) to use the following CPU instructions in performance-critical operations:  AVX2 FMA\n",
      "To enable them in other operations, rebuild TensorFlow with the appropriate compiler flags.\n",
      "2023-03-03 08:20:42.193059: I tensorflow/compiler/xla/stream_executor/cuda/cuda_gpu_executor.cc:981] successful NUMA node read from SysFS had negative value (-1), but there must be at least one NUMA node, so returning NUMA node zero\n",
      "2023-03-03 08:20:42.193352: I tensorflow/compiler/xla/stream_executor/cuda/cuda_gpu_executor.cc:981] successful NUMA node read from SysFS had negative value (-1), but there must be at least one NUMA node, so returning NUMA node zero\n",
      "2023-03-03 08:20:42.193538: I tensorflow/compiler/xla/stream_executor/cuda/cuda_gpu_executor.cc:981] successful NUMA node read from SysFS had negative value (-1), but there must be at least one NUMA node, so returning NUMA node zero\n",
      "2023-03-03 08:20:42.705183: I tensorflow/compiler/xla/stream_executor/cuda/cuda_gpu_executor.cc:981] successful NUMA node read from SysFS had negative value (-1), but there must be at least one NUMA node, so returning NUMA node zero\n",
      "2023-03-03 08:20:42.705402: I tensorflow/compiler/xla/stream_executor/cuda/cuda_gpu_executor.cc:981] successful NUMA node read from SysFS had negative value (-1), but there must be at least one NUMA node, so returning NUMA node zero\n",
      "2023-03-03 08:20:42.705559: I tensorflow/compiler/xla/stream_executor/cuda/cuda_gpu_executor.cc:981] successful NUMA node read from SysFS had negative value (-1), but there must be at least one NUMA node, so returning NUMA node zero\n",
      "2023-03-03 08:20:42.705683: I tensorflow/core/common_runtime/gpu/gpu_device.cc:1613] Created device /job:localhost/replica:0/task:0/device:GPU:0 with 3031 MB memory:  -> device: 0, name: Quadro M2000M, pci bus id: 0000:01:00.0, compute capability: 5.0\n"
     ]
    },
    {
     "name": "stdout",
     "output_type": "stream",
     "text": [
      "Epoch 1/20\n"
     ]
    },
    {
     "name": "stderr",
     "output_type": "stream",
     "text": [
      "2023-03-03 08:20:44.313736: I tensorflow/compiler/xla/service/service.cc:173] XLA service 0x55e2abe73a20 initialized for platform CUDA (this does not guarantee that XLA will be used). Devices:\n",
      "2023-03-03 08:20:44.313782: I tensorflow/compiler/xla/service/service.cc:181]   StreamExecutor device (0): Quadro M2000M, Compute Capability 5.0\n",
      "2023-03-03 08:20:44.319263: I tensorflow/compiler/mlir/tensorflow/utils/dump_mlir_util.cc:268] disabling MLIR crash reproducer, set env var `MLIR_CRASH_REPRODUCER_DIRECTORY` to enable.\n",
      "2023-03-03 08:20:44.445776: I tensorflow/compiler/jit/xla_compilation_cache.cc:477] Compiled cluster using XLA!  This line is logged at most once for the lifetime of the process.\n"
     ]
    },
    {
     "name": "stdout",
     "output_type": "stream",
     "text": [
      "363/363 [==============================] - 3s 4ms/step - loss: 1.1843 - root_mean_squared_error: 1.0882 - val_loss: 0.4315 - val_root_mean_squared_error: 0.6569\n",
      "Epoch 2/20\n",
      "363/363 [==============================] - 1s 4ms/step - loss: 0.3947 - root_mean_squared_error: 0.6283 - val_loss: 0.3893 - val_root_mean_squared_error: 0.6239\n",
      "Epoch 3/20\n",
      "363/363 [==============================] - 1s 4ms/step - loss: 0.3610 - root_mean_squared_error: 0.6008 - val_loss: 0.3580 - val_root_mean_squared_error: 0.5984\n",
      "Epoch 4/20\n",
      "363/363 [==============================] - 1s 3ms/step - loss: 0.3442 - root_mean_squared_error: 0.5867 - val_loss: 0.3704 - val_root_mean_squared_error: 0.6086\n",
      "Epoch 5/20\n",
      "363/363 [==============================] - 1s 3ms/step - loss: 0.3361 - root_mean_squared_error: 0.5797 - val_loss: 0.3346 - val_root_mean_squared_error: 0.5785\n",
      "Epoch 6/20\n",
      "363/363 [==============================] - 1s 3ms/step - loss: 0.3284 - root_mean_squared_error: 0.5731 - val_loss: 0.3349 - val_root_mean_squared_error: 0.5787\n",
      "Epoch 7/20\n",
      "363/363 [==============================] - 1s 3ms/step - loss: 0.3237 - root_mean_squared_error: 0.5690 - val_loss: 0.3334 - val_root_mean_squared_error: 0.5774\n",
      "Epoch 8/20\n",
      "363/363 [==============================] - 1s 3ms/step - loss: 0.3166 - root_mean_squared_error: 0.5626 - val_loss: 0.3192 - val_root_mean_squared_error: 0.5650\n",
      "Epoch 9/20\n",
      "363/363 [==============================] - 1s 3ms/step - loss: 0.3066 - root_mean_squared_error: 0.5537 - val_loss: 0.3206 - val_root_mean_squared_error: 0.5662\n",
      "Epoch 10/20\n",
      "363/363 [==============================] - 1s 4ms/step - loss: 0.3048 - root_mean_squared_error: 0.5521 - val_loss: 0.3197 - val_root_mean_squared_error: 0.5654\n",
      "Epoch 11/20\n",
      "363/363 [==============================] - 1s 4ms/step - loss: 0.3207 - root_mean_squared_error: 0.5663 - val_loss: 0.4535 - val_root_mean_squared_error: 0.6735\n",
      "Epoch 12/20\n",
      "363/363 [==============================] - 1s 4ms/step - loss: 0.3073 - root_mean_squared_error: 0.5544 - val_loss: 0.3056 - val_root_mean_squared_error: 0.5528\n",
      "Epoch 13/20\n",
      "363/363 [==============================] - 1s 3ms/step - loss: 0.3037 - root_mean_squared_error: 0.5511 - val_loss: 0.3308 - val_root_mean_squared_error: 0.5752\n",
      "Epoch 14/20\n",
      "363/363 [==============================] - 1s 4ms/step - loss: 0.3064 - root_mean_squared_error: 0.5536 - val_loss: 0.3148 - val_root_mean_squared_error: 0.5611\n",
      "Epoch 15/20\n",
      "363/363 [==============================] - 1s 3ms/step - loss: 0.2929 - root_mean_squared_error: 0.5412 - val_loss: 0.2968 - val_root_mean_squared_error: 0.5448\n",
      "Epoch 16/20\n",
      "363/363 [==============================] - 2s 4ms/step - loss: 0.2824 - root_mean_squared_error: 0.5314 - val_loss: 0.2916 - val_root_mean_squared_error: 0.5400\n",
      "Epoch 17/20\n",
      "363/363 [==============================] - 1s 4ms/step - loss: 0.2821 - root_mean_squared_error: 0.5312 - val_loss: 0.2924 - val_root_mean_squared_error: 0.5407\n",
      "Epoch 18/20\n",
      "363/363 [==============================] - 1s 4ms/step - loss: 0.2834 - root_mean_squared_error: 0.5323 - val_loss: 0.2938 - val_root_mean_squared_error: 0.5420\n",
      "Epoch 19/20\n",
      "363/363 [==============================] - 1s 4ms/step - loss: 0.2810 - root_mean_squared_error: 0.5301 - val_loss: 0.3003 - val_root_mean_squared_error: 0.5480\n",
      "Epoch 20/20\n",
      "363/363 [==============================] - 2s 5ms/step - loss: 0.2785 - root_mean_squared_error: 0.5277 - val_loss: 0.2982 - val_root_mean_squared_error: 0.5461\n",
      "162/162 [==============================] - 0s 3ms/step - loss: 0.3090 - root_mean_squared_error: 0.5559\n"
     ]
    },
    {
     "data": {
      "text/plain": [
       "(0.3090047538280487, 0.5558819770812988)"
      ]
     },
     "execution_count": 8,
     "metadata": {},
     "output_type": "execute_result"
    }
   ],
   "source": [
    "# regression with MLP\n",
    "\n",
    "# bring back housing data\n",
    "housing = fetch_california_housing()\n",
    "X_train_full, X_test, y_train_full, y_test = train_test_split(housing.data, housing.target)\n",
    "X_train, X_valid, y_train, y_valid = train_test_split(X_train_full, y_train_full)\n",
    "\n",
    "norm_layer = tf.keras.layers.Normalization(input_shape=X_train.shape[1:])\n",
    "model = tf.keras.Sequential([\n",
    "    norm_layer,\n",
    "    tf.keras.layers.Dense(50, activation=\"relu\"),\n",
    "    tf.keras.layers.Dense(50, activation=\"relu\"),\n",
    "    tf.keras.layers.Dense(50, activation=\"relu\"),\n",
    "    tf.keras.layers.Dense(1)\n",
    "])\n",
    "optimizer = tf.keras.optimizers.Adam(learning_rate=1e-3)\n",
    "model.compile(loss=\"mse\", optimizer=optimizer, metrics=[\"RootMeanSquaredError\"])\n",
    "norm_layer.adapt(X_train)\n",
    "history = model.fit(X_train, y_train, epochs=20, validation_data=(X_valid, y_valid))\n",
    "mse_test, rmse_test = model.evaluate(X_test, y_test)\n",
    "mse_test, rmse_test"
   ]
  },
  {
   "cell_type": "code",
   "execution_count": 10,
   "metadata": {},
   "outputs": [
    {
     "name": "stdout",
     "output_type": "stream",
     "text": [
      "1/1 [==============================] - 0s 89ms/step\n"
     ]
    },
    {
     "data": {
      "text/plain": [
       "array([[4.350161 ],\n",
       "       [4.815143 ],\n",
       "       [1.0150741]], dtype=float32)"
      ]
     },
     "execution_count": 10,
     "metadata": {},
     "output_type": "execute_result"
    }
   ],
   "source": [
    "X_new = X_test[:3]\n",
    "y_pred = model.predict(X_new)\n",
    "y_pred"
   ]
  },
  {
   "cell_type": "code",
   "execution_count": 11,
   "metadata": {},
   "outputs": [
    {
     "data": {
      "text/plain": [
       "array([3.872, 4.305, 1.527])"
      ]
     },
     "execution_count": 11,
     "metadata": {},
     "output_type": "execute_result"
    }
   ],
   "source": [
    "y_test[:3]"
   ]
  },
  {
   "cell_type": "code",
   "execution_count": 13,
   "metadata": {},
   "outputs": [],
   "source": [
    "# wide and deep nn\n",
    "norm_layer = tf.keras.layers.Normalization()\n",
    "hidden_layer1 = tf.keras.layers.Dense(30, activation=\"relu\")\n",
    "hidden_layer2 = tf.keras.layers.Dense(30, activation=\"relu\")\n",
    "concat_layer = tf.keras.layers.Concatenate()\n",
    "output_layer = tf.keras.layers.Dense(1)\n",
    "\n",
    "# build the model using layers as functions\n",
    "input_ = tf.keras.layers.Input(shape=X_train.shape[1:])\n",
    "normalized = norm_layer(input_)\n",
    "hidden1 = hidden_layer1(normalized)\n",
    "hidden2 = hidden_layer2(hidden1)\n",
    "concat = concat_layer([normalized, hidden2])\n",
    "output = output_layer(concat)\n",
    "\n",
    "model = tf.keras.Model(inputs=[input_], outputs=[output])"
   ]
  },
  {
   "cell_type": "code",
   "execution_count": 14,
   "metadata": {},
   "outputs": [
    {
     "name": "stdout",
     "output_type": "stream",
     "text": [
      "Epoch 1/20\n",
      "363/363 [==============================] - 2s 3ms/step - loss: 1.4339 - root_mean_squared_error: 1.1975 - val_loss: 0.6326 - val_root_mean_squared_error: 0.7954\n",
      "Epoch 2/20\n",
      "363/363 [==============================] - 1s 3ms/step - loss: 0.5322 - root_mean_squared_error: 0.7295 - val_loss: 0.4858 - val_root_mean_squared_error: 0.6970\n",
      "Epoch 3/20\n",
      "363/363 [==============================] - 1s 3ms/step - loss: 0.4244 - root_mean_squared_error: 0.6515 - val_loss: 0.4173 - val_root_mean_squared_error: 0.6460\n",
      "Epoch 4/20\n",
      "363/363 [==============================] - 1s 3ms/step - loss: 0.3938 - root_mean_squared_error: 0.6276 - val_loss: 0.3964 - val_root_mean_squared_error: 0.6296\n",
      "Epoch 5/20\n",
      "363/363 [==============================] - 1s 3ms/step - loss: 0.3705 - root_mean_squared_error: 0.6087 - val_loss: 0.3813 - val_root_mean_squared_error: 0.6175\n",
      "Epoch 6/20\n",
      "363/363 [==============================] - 1s 3ms/step - loss: 0.3676 - root_mean_squared_error: 0.6063 - val_loss: 0.3685 - val_root_mean_squared_error: 0.6070\n",
      "Epoch 7/20\n",
      "363/363 [==============================] - 1s 3ms/step - loss: 0.3567 - root_mean_squared_error: 0.5972 - val_loss: 0.3546 - val_root_mean_squared_error: 0.5955\n",
      "Epoch 8/20\n",
      "363/363 [==============================] - 1s 3ms/step - loss: 0.3486 - root_mean_squared_error: 0.5904 - val_loss: 0.3522 - val_root_mean_squared_error: 0.5934\n",
      "Epoch 9/20\n",
      "363/363 [==============================] - 1s 3ms/step - loss: 0.3400 - root_mean_squared_error: 0.5831 - val_loss: 0.3478 - val_root_mean_squared_error: 0.5898\n",
      "Epoch 10/20\n",
      "363/363 [==============================] - 1s 3ms/step - loss: 0.3321 - root_mean_squared_error: 0.5763 - val_loss: 0.3391 - val_root_mean_squared_error: 0.5823\n",
      "Epoch 11/20\n",
      "363/363 [==============================] - 1s 3ms/step - loss: 0.3313 - root_mean_squared_error: 0.5756 - val_loss: 0.3420 - val_root_mean_squared_error: 0.5848\n",
      "Epoch 12/20\n",
      "363/363 [==============================] - 1s 3ms/step - loss: 0.3582 - root_mean_squared_error: 0.5985 - val_loss: 0.3512 - val_root_mean_squared_error: 0.5926\n",
      "Epoch 13/20\n",
      "363/363 [==============================] - 1s 3ms/step - loss: 0.3593 - root_mean_squared_error: 0.5994 - val_loss: 0.3278 - val_root_mean_squared_error: 0.5725\n",
      "Epoch 14/20\n",
      "363/363 [==============================] - 1s 3ms/step - loss: 0.3288 - root_mean_squared_error: 0.5734 - val_loss: 0.3291 - val_root_mean_squared_error: 0.5737\n",
      "Epoch 15/20\n",
      "363/363 [==============================] - 1s 3ms/step - loss: 0.3289 - root_mean_squared_error: 0.5735 - val_loss: 0.3263 - val_root_mean_squared_error: 0.5712\n",
      "Epoch 16/20\n",
      "363/363 [==============================] - 1s 3ms/step - loss: 0.3217 - root_mean_squared_error: 0.5671 - val_loss: 0.3303 - val_root_mean_squared_error: 0.5748\n",
      "Epoch 17/20\n",
      "363/363 [==============================] - 1s 3ms/step - loss: 0.3314 - root_mean_squared_error: 0.5756 - val_loss: 0.3263 - val_root_mean_squared_error: 0.5712\n",
      "Epoch 18/20\n",
      "363/363 [==============================] - 1s 3ms/step - loss: 0.3074 - root_mean_squared_error: 0.5545 - val_loss: 0.3233 - val_root_mean_squared_error: 0.5686\n",
      "Epoch 19/20\n",
      "363/363 [==============================] - 1s 3ms/step - loss: 0.3047 - root_mean_squared_error: 0.5520 - val_loss: 0.3227 - val_root_mean_squared_error: 0.5681\n",
      "Epoch 20/20\n",
      "363/363 [==============================] - 1s 3ms/step - loss: 0.3054 - root_mean_squared_error: 0.5526 - val_loss: 0.3203 - val_root_mean_squared_error: 0.5659\n",
      "162/162 [==============================] - 0s 2ms/step - loss: 0.4576 - root_mean_squared_error: 0.6765\n"
     ]
    },
    {
     "data": {
      "text/plain": [
       "(0.45758557319641113, 0.6764507293701172)"
      ]
     },
     "execution_count": 14,
     "metadata": {},
     "output_type": "execute_result"
    }
   ],
   "source": [
    "optimizer = tf.keras.optimizers.Adam(learning_rate=1e-3)\n",
    "model.compile(loss=\"mse\", optimizer=optimizer, metrics=[\"RootMeanSquaredError\"])\n",
    "norm_layer.adapt(X_train)\n",
    "history = model.fit(X_train, y_train, epochs=20, validation_data=(X_valid, y_valid))\n",
    "mse_test, rmse_test = model.evaluate(X_test, y_test)\n",
    "mse_test, rmse_test"
   ]
  },
  {
   "cell_type": "code",
   "execution_count": 17,
   "metadata": {},
   "outputs": [],
   "source": [
    "# send a subset of features wide and a subset of features deep\n",
    "input_wide = tf.keras.layers.Input(shape=[5]) # 0-4\n",
    "input_deep = tf.keras.layers.Input(shape=[6]) # 2-7\n",
    "norm_layer_wide = tf.keras.layers.Normalization()\n",
    "norm_layer_deep = tf.keras.layers.Normalization()\n",
    "norm_wide = norm_layer_wide(input_wide)\n",
    "norm_deep = norm_layer_deep(input_deep)\n",
    "hidden1 = tf.keras.layers.Dense(30, activation=\"relu\")(norm_deep)\n",
    "hidden2 = tf.keras.layers.Dense(30, activation=\"relu\")(hidden1)\n",
    "concat = tf.keras.layers.concatenate([norm_wide, hidden2])\n",
    "output = tf.keras.layers.Dense(1)(concat)\n",
    "\n",
    "model = tf.keras.Model(inputs=[input_wide, input_deep], outputs=[output])"
   ]
  },
  {
   "cell_type": "code",
   "execution_count": 19,
   "metadata": {},
   "outputs": [
    {
     "name": "stdout",
     "output_type": "stream",
     "text": [
      "Epoch 1/20\n",
      "363/363 [==============================] - 2s 4ms/step - loss: 0.3338 - root_mean_squared_error: 0.5778 - val_loss: 0.3339 - val_root_mean_squared_error: 0.5779\n",
      "Epoch 2/20\n",
      "363/363 [==============================] - 1s 3ms/step - loss: 0.3384 - root_mean_squared_error: 0.5817 - val_loss: 0.3429 - val_root_mean_squared_error: 0.5856\n",
      "Epoch 3/20\n",
      "363/363 [==============================] - 1s 3ms/step - loss: 0.3299 - root_mean_squared_error: 0.5744 - val_loss: 0.3330 - val_root_mean_squared_error: 0.5771\n",
      "Epoch 4/20\n",
      "363/363 [==============================] - 1s 3ms/step - loss: 0.3284 - root_mean_squared_error: 0.5731 - val_loss: 0.3364 - val_root_mean_squared_error: 0.5800\n",
      "Epoch 5/20\n",
      "363/363 [==============================] - 1s 3ms/step - loss: 0.3394 - root_mean_squared_error: 0.5825 - val_loss: 0.3292 - val_root_mean_squared_error: 0.5738\n",
      "Epoch 6/20\n",
      "363/363 [==============================] - 1s 3ms/step - loss: 0.3285 - root_mean_squared_error: 0.5731 - val_loss: 0.3327 - val_root_mean_squared_error: 0.5768\n",
      "Epoch 7/20\n",
      "363/363 [==============================] - 1s 3ms/step - loss: 0.3218 - root_mean_squared_error: 0.5673 - val_loss: 0.3389 - val_root_mean_squared_error: 0.5822\n",
      "Epoch 8/20\n",
      "363/363 [==============================] - 1s 3ms/step - loss: 0.3215 - root_mean_squared_error: 0.5670 - val_loss: 0.3267 - val_root_mean_squared_error: 0.5715\n",
      "Epoch 9/20\n",
      "363/363 [==============================] - 1s 3ms/step - loss: 0.3169 - root_mean_squared_error: 0.5629 - val_loss: 0.3247 - val_root_mean_squared_error: 0.5698\n",
      "Epoch 10/20\n",
      "363/363 [==============================] - 1s 3ms/step - loss: 0.3150 - root_mean_squared_error: 0.5613 - val_loss: 0.3291 - val_root_mean_squared_error: 0.5737\n",
      "Epoch 11/20\n",
      "363/363 [==============================] - 1s 3ms/step - loss: 0.3201 - root_mean_squared_error: 0.5658 - val_loss: 0.3276 - val_root_mean_squared_error: 0.5724\n",
      "Epoch 12/20\n",
      "363/363 [==============================] - 1s 3ms/step - loss: 0.3146 - root_mean_squared_error: 0.5609 - val_loss: 0.3221 - val_root_mean_squared_error: 0.5675\n",
      "Epoch 13/20\n",
      "363/363 [==============================] - 1s 3ms/step - loss: 0.3177 - root_mean_squared_error: 0.5636 - val_loss: 0.3234 - val_root_mean_squared_error: 0.5687\n",
      "Epoch 14/20\n",
      "363/363 [==============================] - 1s 3ms/step - loss: 0.3204 - root_mean_squared_error: 0.5660 - val_loss: 0.3208 - val_root_mean_squared_error: 0.5664\n",
      "Epoch 15/20\n",
      "363/363 [==============================] - 1s 3ms/step - loss: 0.3149 - root_mean_squared_error: 0.5612 - val_loss: 0.3206 - val_root_mean_squared_error: 0.5662\n",
      "Epoch 16/20\n",
      "363/363 [==============================] - 1s 3ms/step - loss: 0.3114 - root_mean_squared_error: 0.5580 - val_loss: 0.3169 - val_root_mean_squared_error: 0.5629\n",
      "Epoch 17/20\n",
      "363/363 [==============================] - 1s 3ms/step - loss: 0.3085 - root_mean_squared_error: 0.5555 - val_loss: 0.3209 - val_root_mean_squared_error: 0.5665\n",
      "Epoch 18/20\n",
      "363/363 [==============================] - 1s 3ms/step - loss: 0.3069 - root_mean_squared_error: 0.5540 - val_loss: 0.3163 - val_root_mean_squared_error: 0.5624\n",
      "Epoch 19/20\n",
      "363/363 [==============================] - 1s 3ms/step - loss: 0.3065 - root_mean_squared_error: 0.5536 - val_loss: 0.3224 - val_root_mean_squared_error: 0.5678\n",
      "Epoch 20/20\n",
      "363/363 [==============================] - 1s 3ms/step - loss: 0.3071 - root_mean_squared_error: 0.5541 - val_loss: 0.3140 - val_root_mean_squared_error: 0.5604\n",
      "162/162 [==============================] - 0s 2ms/step - loss: 0.3333 - root_mean_squared_error: 0.5773\n"
     ]
    },
    {
     "data": {
      "text/plain": [
       "[0.33327504992485046, 0.5772997736930847]"
      ]
     },
     "execution_count": 19,
     "metadata": {},
     "output_type": "execute_result"
    }
   ],
   "source": [
    "optimizer = tf.keras.optimizers.Adam(learning_rate=1e-3)\n",
    "model.compile(loss=\"mse\", optimizer=optimizer, metrics=[\"RootMeanSquaredError\"])\n",
    "\n",
    "# split data to wide and deep inputs\n",
    "X_train_wide, X_train_deep = X_train[:, :5], X_train[:, 2:]\n",
    "X_valid_wide, X_valid_deep = X_valid[:, :5], X_valid[:, 2:]\n",
    "X_test_wide, X_test_deep = X_test[:, :5], X_test[:, 2:]\n",
    "\n",
    "norm_layer_wide.adapt(X_train_wide)\n",
    "norm_layer_deep.adapt(X_train_deep)\n",
    "history = model.fit((X_train_wide, X_train_deep), y_train, epochs=20, validation_data=((X_valid_wide, X_valid_deep), y_valid))\n",
    "\n",
    "mse_test = model.evaluate((X_test_wide, X_test_deep), y_test)\n",
    "mse_test"
   ]
  },
  {
   "cell_type": "code",
   "execution_count": 29,
   "metadata": {},
   "outputs": [
    {
     "name": "stdout",
     "output_type": "stream",
     "text": [
      "Epoch 1/20\n",
      "363/363 [==============================] - 3s 5ms/step - loss: 3.0216 - output_1_loss: 1.3149 - output_2_loss: 1.7067 - output_1_root_mean_squared_error: 1.1467 - output_2_root_mean_squared_error: 1.3064 - val_loss: 1.3139 - val_output_1_loss: 0.5470 - val_output_2_loss: 0.7669 - val_output_1_root_mean_squared_error: 0.7396 - val_output_2_root_mean_squared_error: 0.8757\n",
      "Epoch 2/20\n",
      "363/363 [==============================] - 2s 5ms/step - loss: 1.1452 - output_1_loss: 0.4695 - output_2_loss: 0.6758 - output_1_root_mean_squared_error: 0.6852 - output_2_root_mean_squared_error: 0.8220 - val_loss: 1.0306 - val_output_1_loss: 0.4472 - val_output_2_loss: 0.5834 - val_output_1_root_mean_squared_error: 0.6687 - val_output_2_root_mean_squared_error: 0.7638\n",
      "Epoch 3/20\n",
      "363/363 [==============================] - 2s 5ms/step - loss: 0.9920 - output_1_loss: 0.4238 - output_2_loss: 0.5683 - output_1_root_mean_squared_error: 0.6510 - output_2_root_mean_squared_error: 0.7538 - val_loss: 0.9563 - val_output_1_loss: 0.4167 - val_output_2_loss: 0.5397 - val_output_1_root_mean_squared_error: 0.6455 - val_output_2_root_mean_squared_error: 0.7346\n",
      "Epoch 4/20\n",
      "363/363 [==============================] - 2s 5ms/step - loss: 0.9434 - output_1_loss: 0.4102 - output_2_loss: 0.5332 - output_1_root_mean_squared_error: 0.6405 - output_2_root_mean_squared_error: 0.7302 - val_loss: 0.9022 - val_output_1_loss: 0.3987 - val_output_2_loss: 0.5035 - val_output_1_root_mean_squared_error: 0.6314 - val_output_2_root_mean_squared_error: 0.7096\n",
      "Epoch 5/20\n",
      "363/363 [==============================] - 2s 4ms/step - loss: 0.8903 - output_1_loss: 0.3863 - output_2_loss: 0.5040 - output_1_root_mean_squared_error: 0.6215 - output_2_root_mean_squared_error: 0.7099 - val_loss: 0.8709 - val_output_1_loss: 0.3876 - val_output_2_loss: 0.4832 - val_output_1_root_mean_squared_error: 0.6226 - val_output_2_root_mean_squared_error: 0.6951\n",
      "Epoch 6/20\n",
      "363/363 [==============================] - 2s 4ms/step - loss: 0.8447 - output_1_loss: 0.3763 - output_2_loss: 0.4683 - output_1_root_mean_squared_error: 0.6135 - output_2_root_mean_squared_error: 0.6843 - val_loss: 0.8314 - val_output_1_loss: 0.3782 - val_output_2_loss: 0.4533 - val_output_1_root_mean_squared_error: 0.6149 - val_output_2_root_mean_squared_error: 0.6732\n",
      "Epoch 7/20\n",
      "363/363 [==============================] - 2s 5ms/step - loss: 0.8075 - output_1_loss: 0.3621 - output_2_loss: 0.4453 - output_1_root_mean_squared_error: 0.6018 - output_2_root_mean_squared_error: 0.6673 - val_loss: 0.8149 - val_output_1_loss: 0.3711 - val_output_2_loss: 0.4438 - val_output_1_root_mean_squared_error: 0.6092 - val_output_2_root_mean_squared_error: 0.6662\n",
      "Epoch 8/20\n",
      "363/363 [==============================] - 2s 5ms/step - loss: 0.8171 - output_1_loss: 0.3715 - output_2_loss: 0.4456 - output_1_root_mean_squared_error: 0.6095 - output_2_root_mean_squared_error: 0.6675 - val_loss: 0.7680 - val_output_1_loss: 0.3520 - val_output_2_loss: 0.4160 - val_output_1_root_mean_squared_error: 0.5933 - val_output_2_root_mean_squared_error: 0.6450\n",
      "Epoch 9/20\n",
      "363/363 [==============================] - 2s 5ms/step - loss: 0.7876 - output_1_loss: 0.3603 - output_2_loss: 0.4273 - output_1_root_mean_squared_error: 0.6003 - output_2_root_mean_squared_error: 0.6537 - val_loss: 0.7908 - val_output_1_loss: 0.3692 - val_output_2_loss: 0.4215 - val_output_1_root_mean_squared_error: 0.6076 - val_output_2_root_mean_squared_error: 0.6493\n",
      "Epoch 10/20\n",
      "363/363 [==============================] - 2s 5ms/step - loss: 0.7623 - output_1_loss: 0.3455 - output_2_loss: 0.4168 - output_1_root_mean_squared_error: 0.5878 - output_2_root_mean_squared_error: 0.6456 - val_loss: 0.7585 - val_output_1_loss: 0.3498 - val_output_2_loss: 0.4087 - val_output_1_root_mean_squared_error: 0.5914 - val_output_2_root_mean_squared_error: 0.6393\n",
      "Epoch 11/20\n",
      "363/363 [==============================] - 2s 4ms/step - loss: 0.7425 - output_1_loss: 0.3378 - output_2_loss: 0.4047 - output_1_root_mean_squared_error: 0.5812 - output_2_root_mean_squared_error: 0.6362 - val_loss: 0.7435 - val_output_1_loss: 0.3451 - val_output_2_loss: 0.3985 - val_output_1_root_mean_squared_error: 0.5874 - val_output_2_root_mean_squared_error: 0.6312\n",
      "Epoch 12/20\n",
      "363/363 [==============================] - 2s 4ms/step - loss: 0.7338 - output_1_loss: 0.3357 - output_2_loss: 0.3982 - output_1_root_mean_squared_error: 0.5794 - output_2_root_mean_squared_error: 0.6310 - val_loss: 0.7358 - val_output_1_loss: 0.3402 - val_output_2_loss: 0.3956 - val_output_1_root_mean_squared_error: 0.5833 - val_output_2_root_mean_squared_error: 0.6290\n",
      "Epoch 13/20\n",
      "363/363 [==============================] - 2s 5ms/step - loss: 0.7339 - output_1_loss: 0.3388 - output_2_loss: 0.3951 - output_1_root_mean_squared_error: 0.5820 - output_2_root_mean_squared_error: 0.6286 - val_loss: 0.7292 - val_output_1_loss: 0.3376 - val_output_2_loss: 0.3916 - val_output_1_root_mean_squared_error: 0.5810 - val_output_2_root_mean_squared_error: 0.6257\n",
      "Epoch 14/20\n",
      "363/363 [==============================] - 2s 5ms/step - loss: 0.7331 - output_1_loss: 0.3395 - output_2_loss: 0.3936 - output_1_root_mean_squared_error: 0.5827 - output_2_root_mean_squared_error: 0.6274 - val_loss: 0.7286 - val_output_1_loss: 0.3385 - val_output_2_loss: 0.3901 - val_output_1_root_mean_squared_error: 0.5818 - val_output_2_root_mean_squared_error: 0.6246\n",
      "Epoch 15/20\n",
      "363/363 [==============================] - 2s 5ms/step - loss: 0.7245 - output_1_loss: 0.3356 - output_2_loss: 0.3889 - output_1_root_mean_squared_error: 0.5793 - output_2_root_mean_squared_error: 0.6236 - val_loss: 0.7317 - val_output_1_loss: 0.3407 - val_output_2_loss: 0.3909 - val_output_1_root_mean_squared_error: 0.5837 - val_output_2_root_mean_squared_error: 0.6252\n",
      "Epoch 16/20\n",
      "363/363 [==============================] - 2s 4ms/step - loss: 0.7162 - output_1_loss: 0.3315 - output_2_loss: 0.3847 - output_1_root_mean_squared_error: 0.5758 - output_2_root_mean_squared_error: 0.6202 - val_loss: 0.7338 - val_output_1_loss: 0.3406 - val_output_2_loss: 0.3932 - val_output_1_root_mean_squared_error: 0.5836 - val_output_2_root_mean_squared_error: 0.6271\n",
      "Epoch 17/20\n",
      "363/363 [==============================] - 2s 5ms/step - loss: 0.7114 - output_1_loss: 0.3275 - output_2_loss: 0.3839 - output_1_root_mean_squared_error: 0.5723 - output_2_root_mean_squared_error: 0.6196 - val_loss: 0.7412 - val_output_1_loss: 0.3484 - val_output_2_loss: 0.3927 - val_output_1_root_mean_squared_error: 0.5903 - val_output_2_root_mean_squared_error: 0.6267\n",
      "Epoch 18/20\n",
      "363/363 [==============================] - 2s 4ms/step - loss: 0.7095 - output_1_loss: 0.3274 - output_2_loss: 0.3822 - output_1_root_mean_squared_error: 0.5722 - output_2_root_mean_squared_error: 0.6182 - val_loss: 0.7229 - val_output_1_loss: 0.3369 - val_output_2_loss: 0.3861 - val_output_1_root_mean_squared_error: 0.5804 - val_output_2_root_mean_squared_error: 0.6213\n",
      "Epoch 19/20\n",
      "363/363 [==============================] - 2s 5ms/step - loss: 0.7076 - output_1_loss: 0.3283 - output_2_loss: 0.3793 - output_1_root_mean_squared_error: 0.5730 - output_2_root_mean_squared_error: 0.6159 - val_loss: 0.7119 - val_output_1_loss: 0.3313 - val_output_2_loss: 0.3806 - val_output_1_root_mean_squared_error: 0.5756 - val_output_2_root_mean_squared_error: 0.6169\n",
      "Epoch 20/20\n",
      "363/363 [==============================] - 2s 5ms/step - loss: 0.7067 - output_1_loss: 0.3273 - output_2_loss: 0.3793 - output_1_root_mean_squared_error: 0.5721 - output_2_root_mean_squared_error: 0.6159 - val_loss: 0.7335 - val_output_1_loss: 0.3481 - val_output_2_loss: 0.3854 - val_output_1_root_mean_squared_error: 0.5900 - val_output_2_root_mean_squared_error: 0.6208\n",
      "162/162 [==============================] - 1s 3ms/step - loss: 0.8522 - output_1_loss: 0.4226 - output_2_loss: 0.4296 - output_1_root_mean_squared_error: 0.6501 - output_2_root_mean_squared_error: 0.6554\n"
     ]
    },
    {
     "data": {
      "text/plain": [
       "(0.8522363305091858, 0.42263340950012207, 0.42960304021835327)"
      ]
     },
     "execution_count": 29,
     "metadata": {},
     "output_type": "execute_result"
    }
   ],
   "source": [
    "# same model with sub-classing api and two outputs\n",
    "class WideAndDeep(tf.keras.Model):\n",
    "    def __init__(self, units=30, activation=\"relu\", **kwargs):\n",
    "        super().__init__(**kwargs)\n",
    "        self.norm_layer_wide = tf.keras.layers.Normalization()\n",
    "        self.norm_layer_deep = tf.keras.layers.Normalization()\n",
    "        self.hidden1 = tf.keras.layers.Dense(units, activation=activation)\n",
    "        self.hidden2 = tf.keras.layers.Dense(units, activation=activation)\n",
    "        self.main_output = tf.keras.layers.Dense(1)\n",
    "        self.aux_output = tf.keras.layers.Dense(1)\n",
    "    \n",
    "    def call(self, inputs):\n",
    "        input_deep, input_wide = inputs\n",
    "        norm_wide = self.norm_layer_wide(input_wide)\n",
    "        norm_deep = self.norm_layer_deep(input_deep)\n",
    "        hidden1 = self.hidden1(norm_deep)\n",
    "        hidden2 = self.hidden2(hidden1)\n",
    "        concat = tf.keras.layers.concatenate([norm_wide, hidden2])\n",
    "        output = self.main_output(concat)\n",
    "        aux_output = self.aux_output(hidden2)\n",
    "        return output, aux_output\n",
    "\n",
    "model = WideAndDeep(30, activation=\"relu\", name=\"widedeep1\")\n",
    "\n",
    "optimizer = tf.keras.optimizers.Adam(learning_rate=1e-3)\n",
    "model.compile(loss=(\"mse\", \"mse\"), optimizer=optimizer, metrics=([\"RootMeanSquaredError\"]))\n",
    "model.norm_layer_deep.adapt(X_train_deep)\n",
    "model.norm_layer_wide.adapt(X_train_wide)\n",
    "\n",
    "history = model.fit((X_train_deep, X_train_wide), (y_train, y_train), epochs=20, validation_data=((X_valid_deep, X_valid_wide), (y_valid, y_valid)))\n",
    "mse_test = model.evaluate((X_test_deep, X_test_wide), (y_test, y_test))\n",
    "mse_test[0], mse_test[1], mse_test[2]"
   ]
  },
  {
   "cell_type": "code",
   "execution_count": 31,
   "metadata": {},
   "outputs": [],
   "source": [
    "# visualizing logs with tensorboard\n",
    "from pathlib import Path\n",
    "from time import strftime\n",
    "\n",
    "def get_run_logdir(root_logdir=\"logs\"):\n",
    "    return Path(root_logdir) / strftime(\"run_%Y_%m_%d_%H_%M_%S\")"
   ]
  },
  {
   "cell_type": "code",
   "execution_count": 33,
   "metadata": {},
   "outputs": [
    {
     "name": "stdout",
     "output_type": "stream",
     "text": [
      "Epoch 1/20\n",
      "  1/363 [..............................] - ETA: 13s - loss: 0.6533 - output_1_loss: 0.3043 - output_2_loss: 0.3490 - output_1_root_mean_squared_error: 0.5516 - output_2_root_mean_squared_error: 0.5908"
     ]
    },
    {
     "name": "stderr",
     "output_type": "stream",
     "text": [
      "2023-03-03 11:26:29.724491: I tensorflow/core/profiler/lib/profiler_session.cc:101] Profiler session initializing.\n",
      "2023-03-03 11:26:29.724517: I tensorflow/core/profiler/lib/profiler_session.cc:116] Profiler session started.\n",
      "2023-03-03 11:26:29.762653: I tensorflow/core/profiler/lib/profiler_session.cc:128] Profiler session tear down.\n",
      "2023-03-03 11:26:29.776970: I tensorflow/core/profiler/backends/gpu/cupti_tracer.cc:1798] CUPTI activity buffer flushed\n"
     ]
    },
    {
     "name": "stdout",
     "output_type": "stream",
     "text": [
      "121/363 [=========>....................] - ETA: 1s - loss: 0.6597 - output_1_loss: 0.3095 - output_2_loss: 0.3502 - output_1_root_mean_squared_error: 0.5563 - output_2_root_mean_squared_error: 0.5918"
     ]
    },
    {
     "name": "stderr",
     "output_type": "stream",
     "text": [
      "2023-03-03 11:26:30.282837: I tensorflow/core/profiler/lib/profiler_session.cc:101] Profiler session initializing.\n",
      "2023-03-03 11:26:30.282866: I tensorflow/core/profiler/lib/profiler_session.cc:116] Profiler session started.\n"
     ]
    },
    {
     "name": "stdout",
     "output_type": "stream",
     "text": [
      "199/363 [===============>..............] - ETA: 0s - loss: 0.6692 - output_1_loss: 0.3129 - output_2_loss: 0.3563 - output_1_root_mean_squared_error: 0.5594 - output_2_root_mean_squared_error: 0.5969"
     ]
    },
    {
     "name": "stderr",
     "output_type": "stream",
     "text": [
      "2023-03-03 11:26:30.813714: I tensorflow/core/profiler/lib/profiler_session.cc:67] Profiler session collecting data.\n",
      "2023-03-03 11:26:30.824960: I tensorflow/core/profiler/backends/gpu/cupti_tracer.cc:1798] CUPTI activity buffer flushed\n",
      "2023-03-03 11:26:30.911473: I tensorflow/core/profiler/backends/gpu/cupti_collector.cc:522]  GpuTracer has collected 13525 callback api events and 12993 activity events. \n",
      "2023-03-03 11:26:30.999229: I tensorflow/core/profiler/lib/profiler_session.cc:128] Profiler session tear down.\n",
      "2023-03-03 11:26:31.002852: I tensorflow/core/profiler/rpc/client/save_profile.cc:164] Collecting XSpace to repository: logs/run_2023_03_03_11_26_29/plugins/profile/2023_03_03_11_26_31/machine.xplane.pb\n"
     ]
    },
    {
     "name": "stdout",
     "output_type": "stream",
     "text": [
      "363/363 [==============================] - 4s 10ms/step - loss: 0.6616 - output_1_loss: 0.3079 - output_2_loss: 0.3537 - output_1_root_mean_squared_error: 0.5549 - output_2_root_mean_squared_error: 0.5948 - val_loss: 0.6726 - val_output_1_loss: 0.3164 - val_output_2_loss: 0.3562 - val_output_1_root_mean_squared_error: 0.5625 - val_output_2_root_mean_squared_error: 0.5968\n",
      "Epoch 2/20\n",
      "363/363 [==============================] - 2s 4ms/step - loss: 0.6555 - output_1_loss: 0.3049 - output_2_loss: 0.3506 - output_1_root_mean_squared_error: 0.5522 - output_2_root_mean_squared_error: 0.5921 - val_loss: 0.6730 - val_output_1_loss: 0.3156 - val_output_2_loss: 0.3573 - val_output_1_root_mean_squared_error: 0.5618 - val_output_2_root_mean_squared_error: 0.5978\n",
      "Epoch 3/20\n",
      "363/363 [==============================] - 2s 4ms/step - loss: 0.6658 - output_1_loss: 0.3118 - output_2_loss: 0.3541 - output_1_root_mean_squared_error: 0.5584 - output_2_root_mean_squared_error: 0.5950 - val_loss: 0.6977 - val_output_1_loss: 0.3232 - val_output_2_loss: 0.3745 - val_output_1_root_mean_squared_error: 0.5685 - val_output_2_root_mean_squared_error: 0.6120\n",
      "Epoch 4/20\n",
      "363/363 [==============================] - 2s 4ms/step - loss: 0.6601 - output_1_loss: 0.3085 - output_2_loss: 0.3516 - output_1_root_mean_squared_error: 0.5554 - output_2_root_mean_squared_error: 0.5930 - val_loss: 0.6794 - val_output_1_loss: 0.3199 - val_output_2_loss: 0.3595 - val_output_1_root_mean_squared_error: 0.5656 - val_output_2_root_mean_squared_error: 0.5996\n",
      "Epoch 5/20\n",
      "363/363 [==============================] - 2s 4ms/step - loss: 0.6527 - output_1_loss: 0.3030 - output_2_loss: 0.3497 - output_1_root_mean_squared_error: 0.5505 - output_2_root_mean_squared_error: 0.5914 - val_loss: 0.6863 - val_output_1_loss: 0.3236 - val_output_2_loss: 0.3627 - val_output_1_root_mean_squared_error: 0.5688 - val_output_2_root_mean_squared_error: 0.6023\n",
      "Epoch 6/20\n",
      "363/363 [==============================] - 2s 5ms/step - loss: 0.6478 - output_1_loss: 0.3010 - output_2_loss: 0.3468 - output_1_root_mean_squared_error: 0.5487 - output_2_root_mean_squared_error: 0.5889 - val_loss: 0.6684 - val_output_1_loss: 0.3144 - val_output_2_loss: 0.3540 - val_output_1_root_mean_squared_error: 0.5607 - val_output_2_root_mean_squared_error: 0.5950\n",
      "Epoch 7/20\n",
      "363/363 [==============================] - 2s 5ms/step - loss: 0.6454 - output_1_loss: 0.3003 - output_2_loss: 0.3450 - output_1_root_mean_squared_error: 0.5480 - output_2_root_mean_squared_error: 0.5874 - val_loss: 0.6821 - val_output_1_loss: 0.3216 - val_output_2_loss: 0.3605 - val_output_1_root_mean_squared_error: 0.5671 - val_output_2_root_mean_squared_error: 0.6004\n",
      "Epoch 8/20\n",
      "363/363 [==============================] - 2s 5ms/step - loss: 0.6433 - output_1_loss: 0.2990 - output_2_loss: 0.3443 - output_1_root_mean_squared_error: 0.5468 - output_2_root_mean_squared_error: 0.5868 - val_loss: 0.6671 - val_output_1_loss: 0.3143 - val_output_2_loss: 0.3528 - val_output_1_root_mean_squared_error: 0.5606 - val_output_2_root_mean_squared_error: 0.5940\n",
      "Epoch 9/20\n",
      "363/363 [==============================] - 2s 5ms/step - loss: 0.6473 - output_1_loss: 0.3006 - output_2_loss: 0.3467 - output_1_root_mean_squared_error: 0.5482 - output_2_root_mean_squared_error: 0.5888 - val_loss: 0.6585 - val_output_1_loss: 0.3105 - val_output_2_loss: 0.3480 - val_output_1_root_mean_squared_error: 0.5572 - val_output_2_root_mean_squared_error: 0.5899\n",
      "Epoch 10/20\n",
      "363/363 [==============================] - 2s 5ms/step - loss: 0.6454 - output_1_loss: 0.2998 - output_2_loss: 0.3456 - output_1_root_mean_squared_error: 0.5476 - output_2_root_mean_squared_error: 0.5878 - val_loss: 0.6598 - val_output_1_loss: 0.3115 - val_output_2_loss: 0.3483 - val_output_1_root_mean_squared_error: 0.5581 - val_output_2_root_mean_squared_error: 0.5902\n",
      "Epoch 11/20\n",
      "363/363 [==============================] - 2s 5ms/step - loss: 0.6387 - output_1_loss: 0.2965 - output_2_loss: 0.3422 - output_1_root_mean_squared_error: 0.5445 - output_2_root_mean_squared_error: 0.5850 - val_loss: 0.6671 - val_output_1_loss: 0.3126 - val_output_2_loss: 0.3545 - val_output_1_root_mean_squared_error: 0.5591 - val_output_2_root_mean_squared_error: 0.5954\n",
      "Epoch 12/20\n",
      "363/363 [==============================] - 2s 5ms/step - loss: 0.6384 - output_1_loss: 0.2969 - output_2_loss: 0.3415 - output_1_root_mean_squared_error: 0.5449 - output_2_root_mean_squared_error: 0.5844 - val_loss: 0.6626 - val_output_1_loss: 0.3133 - val_output_2_loss: 0.3493 - val_output_1_root_mean_squared_error: 0.5598 - val_output_2_root_mean_squared_error: 0.5910\n",
      "Epoch 13/20\n",
      "363/363 [==============================] - 2s 5ms/step - loss: 0.6454 - output_1_loss: 0.2997 - output_2_loss: 0.3457 - output_1_root_mean_squared_error: 0.5474 - output_2_root_mean_squared_error: 0.5880 - val_loss: 0.6548 - val_output_1_loss: 0.3082 - val_output_2_loss: 0.3466 - val_output_1_root_mean_squared_error: 0.5552 - val_output_2_root_mean_squared_error: 0.5887\n",
      "Epoch 14/20\n",
      "363/363 [==============================] - 2s 5ms/step - loss: 0.6399 - output_1_loss: 0.2976 - output_2_loss: 0.3423 - output_1_root_mean_squared_error: 0.5455 - output_2_root_mean_squared_error: 0.5850 - val_loss: 0.6667 - val_output_1_loss: 0.3160 - val_output_2_loss: 0.3507 - val_output_1_root_mean_squared_error: 0.5622 - val_output_2_root_mean_squared_error: 0.5922\n",
      "Epoch 15/20\n",
      "363/363 [==============================] - 2s 5ms/step - loss: 0.6419 - output_1_loss: 0.2992 - output_2_loss: 0.3427 - output_1_root_mean_squared_error: 0.5470 - output_2_root_mean_squared_error: 0.5854 - val_loss: 0.6608 - val_output_1_loss: 0.3109 - val_output_2_loss: 0.3499 - val_output_1_root_mean_squared_error: 0.5576 - val_output_2_root_mean_squared_error: 0.5915\n",
      "Epoch 16/20\n",
      "363/363 [==============================] - 2s 5ms/step - loss: 0.6354 - output_1_loss: 0.2951 - output_2_loss: 0.3403 - output_1_root_mean_squared_error: 0.5433 - output_2_root_mean_squared_error: 0.5833 - val_loss: 0.6674 - val_output_1_loss: 0.3150 - val_output_2_loss: 0.3524 - val_output_1_root_mean_squared_error: 0.5613 - val_output_2_root_mean_squared_error: 0.5936\n",
      "Epoch 17/20\n",
      "363/363 [==============================] - 2s 5ms/step - loss: 0.6369 - output_1_loss: 0.2965 - output_2_loss: 0.3404 - output_1_root_mean_squared_error: 0.5445 - output_2_root_mean_squared_error: 0.5834 - val_loss: 0.6763 - val_output_1_loss: 0.3189 - val_output_2_loss: 0.3574 - val_output_1_root_mean_squared_error: 0.5647 - val_output_2_root_mean_squared_error: 0.5978\n",
      "Epoch 18/20\n",
      "363/363 [==============================] - 2s 4ms/step - loss: 0.6347 - output_1_loss: 0.2953 - output_2_loss: 0.3394 - output_1_root_mean_squared_error: 0.5435 - output_2_root_mean_squared_error: 0.5826 - val_loss: 0.6511 - val_output_1_loss: 0.3078 - val_output_2_loss: 0.3433 - val_output_1_root_mean_squared_error: 0.5548 - val_output_2_root_mean_squared_error: 0.5859\n",
      "Epoch 19/20\n",
      "363/363 [==============================] - 2s 4ms/step - loss: 0.6302 - output_1_loss: 0.2937 - output_2_loss: 0.3365 - output_1_root_mean_squared_error: 0.5419 - output_2_root_mean_squared_error: 0.5801 - val_loss: 0.6570 - val_output_1_loss: 0.3109 - val_output_2_loss: 0.3462 - val_output_1_root_mean_squared_error: 0.5576 - val_output_2_root_mean_squared_error: 0.5884\n",
      "Epoch 20/20\n",
      "363/363 [==============================] - 2s 4ms/step - loss: 0.6274 - output_1_loss: 0.2923 - output_2_loss: 0.3351 - output_1_root_mean_squared_error: 0.5406 - output_2_root_mean_squared_error: 0.5789 - val_loss: 0.6599 - val_output_1_loss: 0.3125 - val_output_2_loss: 0.3474 - val_output_1_root_mean_squared_error: 0.5591 - val_output_2_root_mean_squared_error: 0.5894\n",
      "Epoch 1/20\n",
      "129/363 [=========>....................] - ETA: 0s - loss: 0.6892 - output_1_loss: 0.3217 - output_2_loss: 0.3675 - output_1_root_mean_squared_error: 0.5672 - output_2_root_mean_squared_error: 0.6062"
     ]
    },
    {
     "name": "stderr",
     "output_type": "stream",
     "text": [
      "2023-03-03 11:27:07.778464: I tensorflow/core/profiler/lib/profiler_session.cc:101] Profiler session initializing.\n",
      "2023-03-03 11:27:07.778500: I tensorflow/core/profiler/lib/profiler_session.cc:116] Profiler session started.\n"
     ]
    },
    {
     "name": "stdout",
     "output_type": "stream",
     "text": [
      "190/363 [==============>...............] - ETA: 0s - loss: 0.6902 - output_1_loss: 0.3233 - output_2_loss: 0.3669 - output_1_root_mean_squared_error: 0.5686 - output_2_root_mean_squared_error: 0.6057"
     ]
    },
    {
     "name": "stderr",
     "output_type": "stream",
     "text": [
      "2023-03-03 11:27:08.416578: I tensorflow/core/profiler/lib/profiler_session.cc:67] Profiler session collecting data.\n",
      "2023-03-03 11:27:08.427316: I tensorflow/core/profiler/backends/gpu/cupti_tracer.cc:1798] CUPTI activity buffer flushed\n",
      "2023-03-03 11:27:08.513818: I tensorflow/core/profiler/backends/gpu/cupti_collector.cc:522]  GpuTracer has collected 13525 callback api events and 12993 activity events. \n",
      "2023-03-03 11:27:08.596809: I tensorflow/core/profiler/lib/profiler_session.cc:128] Profiler session tear down.\n",
      "2023-03-03 11:27:08.599978: I tensorflow/core/profiler/rpc/client/save_profile.cc:164] Collecting XSpace to repository: logs/run_2023_03_03_11_26_29/plugins/profile/2023_03_03_11_27_08/machine.xplane.pb\n"
     ]
    },
    {
     "name": "stdout",
     "output_type": "stream",
     "text": [
      "363/363 [==============================] - 4s 6ms/step - loss: 0.6639 - output_1_loss: 0.3090 - output_2_loss: 0.3549 - output_1_root_mean_squared_error: 0.5559 - output_2_root_mean_squared_error: 0.5958 - val_loss: 0.6614 - val_output_1_loss: 0.3125 - val_output_2_loss: 0.3489 - val_output_1_root_mean_squared_error: 0.5591 - val_output_2_root_mean_squared_error: 0.5906\n",
      "Epoch 2/20\n",
      "363/363 [==============================] - 2s 4ms/step - loss: 0.6670 - output_1_loss: 0.3104 - output_2_loss: 0.3566 - output_1_root_mean_squared_error: 0.5571 - output_2_root_mean_squared_error: 0.5972 - val_loss: 0.6643 - val_output_1_loss: 0.3153 - val_output_2_loss: 0.3490 - val_output_1_root_mean_squared_error: 0.5615 - val_output_2_root_mean_squared_error: 0.5907\n",
      "Epoch 3/20\n",
      "363/363 [==============================] - 1s 4ms/step - loss: 0.6713 - output_1_loss: 0.3110 - output_2_loss: 0.3603 - output_1_root_mean_squared_error: 0.5577 - output_2_root_mean_squared_error: 0.6002 - val_loss: 0.6677 - val_output_1_loss: 0.3166 - val_output_2_loss: 0.3510 - val_output_1_root_mean_squared_error: 0.5627 - val_output_2_root_mean_squared_error: 0.5925\n",
      "Epoch 4/20\n",
      "363/363 [==============================] - 2s 4ms/step - loss: 0.6616 - output_1_loss: 0.3072 - output_2_loss: 0.3544 - output_1_root_mean_squared_error: 0.5543 - output_2_root_mean_squared_error: 0.5953 - val_loss: 0.6613 - val_output_1_loss: 0.3100 - val_output_2_loss: 0.3513 - val_output_1_root_mean_squared_error: 0.5568 - val_output_2_root_mean_squared_error: 0.5927\n",
      "Epoch 5/20\n",
      "363/363 [==============================] - 2s 4ms/step - loss: 0.6677 - output_1_loss: 0.3095 - output_2_loss: 0.3582 - output_1_root_mean_squared_error: 0.5563 - output_2_root_mean_squared_error: 0.5985 - val_loss: 0.6646 - val_output_1_loss: 0.3118 - val_output_2_loss: 0.3527 - val_output_1_root_mean_squared_error: 0.5584 - val_output_2_root_mean_squared_error: 0.5939\n",
      "Epoch 6/20\n",
      "363/363 [==============================] - 2s 4ms/step - loss: 0.6644 - output_1_loss: 0.3092 - output_2_loss: 0.3552 - output_1_root_mean_squared_error: 0.5560 - output_2_root_mean_squared_error: 0.5960 - val_loss: 0.6366 - val_output_1_loss: 0.2998 - val_output_2_loss: 0.3368 - val_output_1_root_mean_squared_error: 0.5476 - val_output_2_root_mean_squared_error: 0.5803\n",
      "Epoch 7/20\n",
      "363/363 [==============================] - 2s 4ms/step - loss: 0.6508 - output_1_loss: 0.3065 - output_2_loss: 0.3443 - output_1_root_mean_squared_error: 0.5536 - output_2_root_mean_squared_error: 0.5868 - val_loss: 0.6457 - val_output_1_loss: 0.3040 - val_output_2_loss: 0.3416 - val_output_1_root_mean_squared_error: 0.5514 - val_output_2_root_mean_squared_error: 0.5845\n",
      "Epoch 8/20\n",
      "363/363 [==============================] - 2s 4ms/step - loss: 0.6549 - output_1_loss: 0.3035 - output_2_loss: 0.3514 - output_1_root_mean_squared_error: 0.5509 - output_2_root_mean_squared_error: 0.5928 - val_loss: 0.6544 - val_output_1_loss: 0.3093 - val_output_2_loss: 0.3451 - val_output_1_root_mean_squared_error: 0.5562 - val_output_2_root_mean_squared_error: 0.5875\n",
      "Epoch 9/20\n",
      "363/363 [==============================] - 2s 4ms/step - loss: 0.6499 - output_1_loss: 0.3019 - output_2_loss: 0.3481 - output_1_root_mean_squared_error: 0.5494 - output_2_root_mean_squared_error: 0.5900 - val_loss: 0.6506 - val_output_1_loss: 0.3050 - val_output_2_loss: 0.3456 - val_output_1_root_mean_squared_error: 0.5523 - val_output_2_root_mean_squared_error: 0.5879\n",
      "Epoch 10/20\n",
      "363/363 [==============================] - 2s 4ms/step - loss: 0.6406 - output_1_loss: 0.2967 - output_2_loss: 0.3440 - output_1_root_mean_squared_error: 0.5447 - output_2_root_mean_squared_error: 0.5865 - val_loss: 0.6755 - val_output_1_loss: 0.3186 - val_output_2_loss: 0.3569 - val_output_1_root_mean_squared_error: 0.5644 - val_output_2_root_mean_squared_error: 0.5974\n",
      "Epoch 11/20\n",
      "363/363 [==============================] - 2s 4ms/step - loss: 0.6600 - output_1_loss: 0.3089 - output_2_loss: 0.3511 - output_1_root_mean_squared_error: 0.5558 - output_2_root_mean_squared_error: 0.5925 - val_loss: 0.6500 - val_output_1_loss: 0.3073 - val_output_2_loss: 0.3427 - val_output_1_root_mean_squared_error: 0.5543 - val_output_2_root_mean_squared_error: 0.5854\n",
      "Epoch 12/20\n",
      "363/363 [==============================] - 2s 4ms/step - loss: 0.6492 - output_1_loss: 0.3035 - output_2_loss: 0.3457 - output_1_root_mean_squared_error: 0.5509 - output_2_root_mean_squared_error: 0.5880 - val_loss: 0.6475 - val_output_1_loss: 0.3072 - val_output_2_loss: 0.3403 - val_output_1_root_mean_squared_error: 0.5543 - val_output_2_root_mean_squared_error: 0.5833\n",
      "Epoch 13/20\n",
      "363/363 [==============================] - 2s 4ms/step - loss: 0.6477 - output_1_loss: 0.3016 - output_2_loss: 0.3461 - output_1_root_mean_squared_error: 0.5492 - output_2_root_mean_squared_error: 0.5883 - val_loss: 0.7493 - val_output_1_loss: 0.3621 - val_output_2_loss: 0.3873 - val_output_1_root_mean_squared_error: 0.6017 - val_output_2_root_mean_squared_error: 0.6223\n",
      "Epoch 14/20\n",
      "363/363 [==============================] - 2s 4ms/step - loss: 0.6737 - output_1_loss: 0.3144 - output_2_loss: 0.3593 - output_1_root_mean_squared_error: 0.5607 - output_2_root_mean_squared_error: 0.5994 - val_loss: 0.7051 - val_output_1_loss: 0.3288 - val_output_2_loss: 0.3763 - val_output_1_root_mean_squared_error: 0.5734 - val_output_2_root_mean_squared_error: 0.6134\n",
      "Epoch 15/20\n",
      "363/363 [==============================] - 2s 4ms/step - loss: 0.6438 - output_1_loss: 0.2986 - output_2_loss: 0.3452 - output_1_root_mean_squared_error: 0.5464 - output_2_root_mean_squared_error: 0.5875 - val_loss: 0.6563 - val_output_1_loss: 0.3055 - val_output_2_loss: 0.3508 - val_output_1_root_mean_squared_error: 0.5527 - val_output_2_root_mean_squared_error: 0.5923\n",
      "Epoch 16/20\n",
      "363/363 [==============================] - 2s 4ms/step - loss: 0.6357 - output_1_loss: 0.2958 - output_2_loss: 0.3399 - output_1_root_mean_squared_error: 0.5438 - output_2_root_mean_squared_error: 0.5830 - val_loss: 0.6414 - val_output_1_loss: 0.3025 - val_output_2_loss: 0.3389 - val_output_1_root_mean_squared_error: 0.5500 - val_output_2_root_mean_squared_error: 0.5821\n",
      "Epoch 17/20\n",
      "363/363 [==============================] - 2s 4ms/step - loss: 0.6309 - output_1_loss: 0.2922 - output_2_loss: 0.3387 - output_1_root_mean_squared_error: 0.5405 - output_2_root_mean_squared_error: 0.5820 - val_loss: 0.6327 - val_output_1_loss: 0.2992 - val_output_2_loss: 0.3335 - val_output_1_root_mean_squared_error: 0.5470 - val_output_2_root_mean_squared_error: 0.5775\n",
      "Epoch 18/20\n",
      "363/363 [==============================] - 2s 4ms/step - loss: 0.6267 - output_1_loss: 0.2917 - output_2_loss: 0.3350 - output_1_root_mean_squared_error: 0.5401 - output_2_root_mean_squared_error: 0.5788 - val_loss: 0.6354 - val_output_1_loss: 0.2998 - val_output_2_loss: 0.3356 - val_output_1_root_mean_squared_error: 0.5475 - val_output_2_root_mean_squared_error: 0.5793\n",
      "Epoch 19/20\n",
      "363/363 [==============================] - 2s 4ms/step - loss: 0.6353 - output_1_loss: 0.2961 - output_2_loss: 0.3392 - output_1_root_mean_squared_error: 0.5442 - output_2_root_mean_squared_error: 0.5824 - val_loss: 0.6369 - val_output_1_loss: 0.3035 - val_output_2_loss: 0.3334 - val_output_1_root_mean_squared_error: 0.5509 - val_output_2_root_mean_squared_error: 0.5774\n",
      "Epoch 20/20\n",
      "363/363 [==============================] - 2s 5ms/step - loss: 0.6209 - output_1_loss: 0.2885 - output_2_loss: 0.3325 - output_1_root_mean_squared_error: 0.5371 - output_2_root_mean_squared_error: 0.5766 - val_loss: 0.6440 - val_output_1_loss: 0.3016 - val_output_2_loss: 0.3424 - val_output_1_root_mean_squared_error: 0.5492 - val_output_2_root_mean_squared_error: 0.5852\n"
     ]
    }
   ],
   "source": [
    "run_logdir = get_run_logdir()\n",
    "tensorboard_cb = tf.keras.callbacks.TensorBoard(run_logdir, profile_batch=(100, 200))\n",
    "\n",
    "history = model.fit((X_train_deep, X_train_wide), (y_train, y_train), epochs=20, validation_data=((X_valid_deep, X_valid_wide), (y_valid, y_valid)), callbacks=[tensorboard_cb])\n",
    "\n",
    "optimizer = tf.keras.optimizers.Adam(learning_rate=3e-3)\n",
    "model.compile(loss=(\"mse\", \"mse\"), optimizer=optimizer, metrics=([\"RootMeanSquaredError\"]))\n",
    "model.norm_layer_deep.adapt(X_train_deep)\n",
    "model.norm_layer_wide.adapt(X_train_wide)\n",
    "\n",
    "run_logdir = get_run_logdir()\n",
    "history = model.fit((X_train_deep, X_train_wide), (y_train, y_train), epochs=20, validation_data=((X_valid_deep, X_valid_wide), (y_valid, y_valid)), callbacks=[tensorboard_cb])\n"
   ]
  },
  {
   "cell_type": "code",
   "execution_count": 41,
   "metadata": {},
   "outputs": [
    {
     "name": "stdout",
     "output_type": "stream",
     "text": [
      "Trial 5 Complete [00h 00m 48s]\n",
      "val_accuracy: 0.6962000131607056\n",
      "\n",
      "Best val_accuracy So Far: 0.8804000020027161\n",
      "Total elapsed time: 00h 04m 10s\n",
      "INFO:tensorflow:Oracle triggered exit\n"
     ]
    },
    {
     "name": "stderr",
     "output_type": "stream",
     "text": [
      "INFO:tensorflow:Oracle triggered exit\n"
     ]
    }
   ],
   "source": [
    "# hyperparameter tuning with keras-tuner\n",
    "import keras_tuner as kt\n",
    "\n",
    "def build_model(hp):\n",
    "    n_hidden = hp.Int(\"n_hidden\", min_value=0, max_value=8, default=2)\n",
    "    n_neurons = hp.Int(\"n_neurons\", min_value=16, max_value=256)\n",
    "    learning_rate = hp.Float(\"learning_rate\", min_value=1e-4, max_value=1e-2, sampling=\"log\")\n",
    "    optimizer = hp.Choice(\"optimizer\", values=[\"sgd\", \"adam\"])\n",
    "    if optimizer == \"sgd\":\n",
    "        optimizer = tf.keras.optimizers.SGD(learning_rate=learning_rate)\n",
    "    else:\n",
    "        optimizer = tf.keras.optimizers.Adam(learning_rate=learning_rate)\n",
    "    \n",
    "    model = tf.keras.Sequential()\n",
    "    model.add(tf.keras.layers.Flatten())\n",
    "    for _ in range(n_hidden):\n",
    "        model.add(tf.keras.layers.Dense(n_neurons, activation=\"relu\"))\n",
    "    model.add(tf.keras.layers.Dense(10, activation=\"softmax\"))\n",
    "    \n",
    "    model.compile(loss=\"sparse_categorical_crossentropy\", optimizer=optimizer, metrics=[\"accuracy\"])\n",
    "    return model\n",
    "\n",
    "random_search_tuner = kt.RandomSearch(\n",
    "    build_model, objective=\"val_accuracy\", max_trials=5, overwrite=True, directory=\"fashion_mnist\", project_name=\"fashion_random_search\", seed=0\n",
    ")\n",
    "random_search_tuner.search(X_train, y_train, epochs=10, validation_data=(X_valid, y_valid))"
   ]
  },
  {
   "cell_type": "code",
   "execution_count": 44,
   "metadata": {},
   "outputs": [
    {
     "data": {
      "text/plain": [
       "{'n_hidden': 5,\n",
       " 'n_neurons': 48,\n",
       " 'learning_rate': 0.0008385828184982733,\n",
       " 'optimizer': 'adam'}"
      ]
     },
     "execution_count": 44,
     "metadata": {},
     "output_type": "execute_result"
    }
   ],
   "source": [
    "random_search_tuner.get_best_hyperparameters()[0].values"
   ]
  },
  {
   "cell_type": "code",
   "execution_count": 54,
   "metadata": {},
   "outputs": [
    {
     "name": "stdout",
     "output_type": "stream",
     "text": [
      "Epoch 1/10\n",
      "1719/1719 [==============================] - 8s 3ms/step - loss: 0.2668 - accuracy: 0.8996 - val_loss: 0.3547 - val_accuracy: 0.8724\n",
      "Epoch 2/10\n",
      "1719/1719 [==============================] - 6s 3ms/step - loss: 0.2579 - accuracy: 0.9025 - val_loss: 0.3594 - val_accuracy: 0.8766\n",
      "Epoch 3/10\n",
      "1719/1719 [==============================] - 6s 3ms/step - loss: 0.2540 - accuracy: 0.9050 - val_loss: 0.3561 - val_accuracy: 0.8776\n",
      "Epoch 4/10\n",
      "1719/1719 [==============================] - 6s 3ms/step - loss: 0.2482 - accuracy: 0.9062 - val_loss: 0.3477 - val_accuracy: 0.8832\n",
      "Epoch 5/10\n",
      "1719/1719 [==============================] - 6s 3ms/step - loss: 0.2445 - accuracy: 0.9077 - val_loss: 0.3400 - val_accuracy: 0.8804\n",
      "Epoch 6/10\n",
      "1719/1719 [==============================] - 6s 3ms/step - loss: 0.2383 - accuracy: 0.9089 - val_loss: 0.3432 - val_accuracy: 0.8786\n",
      "Epoch 7/10\n",
      "1719/1719 [==============================] - 6s 3ms/step - loss: 0.2363 - accuracy: 0.9100 - val_loss: 0.3606 - val_accuracy: 0.8792\n",
      "Epoch 8/10\n",
      "1719/1719 [==============================] - 6s 3ms/step - loss: 0.2312 - accuracy: 0.9119 - val_loss: 0.3672 - val_accuracy: 0.8766\n",
      "Epoch 9/10\n",
      "1719/1719 [==============================] - 6s 3ms/step - loss: 0.2269 - accuracy: 0.9142 - val_loss: 0.3456 - val_accuracy: 0.8870\n",
      "Epoch 10/10\n",
      "1719/1719 [==============================] - 6s 3ms/step - loss: 0.2200 - accuracy: 0.9159 - val_loss: 0.3876 - val_accuracy: 0.8800\n",
      "313/313 [==============================] - 1s 2ms/step - loss: 0.3995 - accuracy: 0.8722\n"
     ]
    },
    {
     "data": {
      "text/plain": [
       "(0.3995085060596466, 0.8722000122070312)"
      ]
     },
     "execution_count": 54,
     "metadata": {},
     "output_type": "execute_result"
    }
   ],
   "source": [
    "best_model = random_search_tuner.get_best_models(num_models=1)[0]\n",
    "best_model.fit(X_train, y_train, epochs=10, validation_data=(X_valid, y_valid))\n",
    "test_loss, test_accuracy = best_model.evaluate(X_test, y_test)\n",
    "test_loss, test_accuracy"
   ]
  },
  {
   "cell_type": "code",
   "execution_count": 56,
   "metadata": {},
   "outputs": [
    {
     "data": {
      "text/plain": [
       "array([9, 2, 1], dtype=uint8)"
      ]
     },
     "execution_count": 56,
     "metadata": {},
     "output_type": "execute_result"
    }
   ],
   "source": []
  }
 ],
 "metadata": {
  "kernelspec": {
   "display_name": "Python 3",
   "language": "python",
   "name": "python3"
  },
  "language_info": {
   "codemirror_mode": {
    "name": "ipython",
    "version": 3
   },
   "file_extension": ".py",
   "mimetype": "text/x-python",
   "name": "python",
   "nbconvert_exporter": "python",
   "pygments_lexer": "ipython3",
   "version": "3.10.10 (main, Mar  5 2023, 22:26:53) [GCC 12.2.1 20230201]"
  },
  "orig_nbformat": 4,
  "vscode": {
   "interpreter": {
    "hash": "e7370f93d1d0cde622a1f8e1c04877d8463912d04d973331ad4851f04de6915a"
   }
  }
 },
 "nbformat": 4,
 "nbformat_minor": 2
}
