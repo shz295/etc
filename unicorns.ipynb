{
 "cells": [
  {
   "cell_type": "code",
   "execution_count": 25,
   "metadata": {},
   "outputs": [],
   "source": [
    "from bs4 import BeautifulSoup\n",
    "import pandas as pd\n",
    "from selenium import webdriver\n",
    "from selenium.webdriver.common.by import By\n",
    "import time"
   ]
  },
  {
   "cell_type": "code",
   "execution_count": 26,
   "metadata": {},
   "outputs": [],
   "source": [
    "url = \"https://www.hurun.net/zh-CN/Rank/HsRankDetails?pagetype=unicorn\"\n",
    "driver = webdriver.Chrome()\n",
    "driver.get(url)"
   ]
  },
  {
   "cell_type": "code",
   "execution_count": 27,
   "metadata": {},
   "outputs": [
    {
     "name": "stdout",
     "output_type": "stream",
     "text": [
      "‹\n",
      "1\n",
      "2\n",
      "3\n",
      "4\n",
      "5\n",
      "...\n",
      "68\n",
      "›\n"
     ]
    }
   ],
   "source": [
    "pagination = driver.find_element(By.CLASS_NAME, \"pagination\")\n",
    "pages = pagination.find_elements(By.CLASS_NAME, \"page-link\")\n",
    "for page in pages:\n",
    "    print(page.text)"
   ]
  },
  {
   "cell_type": "code",
   "execution_count": 28,
   "metadata": {},
   "outputs": [
    {
     "data": {
      "text/plain": [
       "68"
      ]
     },
     "execution_count": 28,
     "metadata": {},
     "output_type": "execute_result"
    }
   ],
   "source": [
    "pages = int(pages[-2].text)\n",
    "pages"
   ]
  },
  {
   "cell_type": "code",
   "execution_count": 29,
   "metadata": {},
   "outputs": [
    {
     "data": {
      "text/plain": [
       "1360"
      ]
     },
     "execution_count": 29,
     "metadata": {},
     "output_type": "execute_result"
    }
   ],
   "source": [
    "data = []\n",
    "for page in range(1, pages+1):\n",
    "    table = driver.find_element(By.ID, 'table')\n",
    "    rows = table.find_elements(By.TAG_NAME, 'tr')\n",
    "    for row in rows:\n",
    "        row_data = [cell.text.strip() for cell in row.find_elements(By.TAG_NAME, 'td')]\n",
    "        if row_data: data.append(row_data)\n",
    "    \n",
    "    next_page_button = driver.find_element(By.CLASS_NAME, 'pagination')\n",
    "    next_page_button = next_page_button.find_elements(By.TAG_NAME, 'a')[-1]\n",
    "    next_page_button.click()\n",
    "    time.sleep(1)\n",
    "\n",
    "len(data)"
   ]
  },
  {
   "cell_type": "code",
   "execution_count": 38,
   "metadata": {},
   "outputs": [
    {
     "data": {
      "text/html": [
       "<div>\n",
       "<style scoped>\n",
       "    .dataframe tbody tr th:only-of-type {\n",
       "        vertical-align: middle;\n",
       "    }\n",
       "\n",
       "    .dataframe tbody tr th {\n",
       "        vertical-align: top;\n",
       "    }\n",
       "\n",
       "    .dataframe thead th {\n",
       "        text-align: right;\n",
       "    }\n",
       "</style>\n",
       "<table border=\"1\" class=\"dataframe\">\n",
       "  <thead>\n",
       "    <tr style=\"text-align: right;\">\n",
       "      <th></th>\n",
       "      <th>排名</th>\n",
       "      <th>企业估值</th>\n",
       "      <th>企业信息</th>\n",
       "      <th>掌门人 / 联合创始人</th>\n",
       "      <th>行业</th>\n",
       "    </tr>\n",
       "  </thead>\n",
       "  <tbody>\n",
       "    <tr>\n",
       "      <th>0</th>\n",
       "      <td>No.1</td>\n",
       "      <td>￥ 13800 亿</td>\n",
       "      <td>字节跳动</td>\n",
       "      <td>张一鸣</td>\n",
       "      <td>社交媒体</td>\n",
       "    </tr>\n",
       "    <tr>\n",
       "      <th>1</th>\n",
       "      <td>No.2</td>\n",
       "      <td>￥ 9450 亿</td>\n",
       "      <td>SpaceX</td>\n",
       "      <td>Elon Musk</td>\n",
       "      <td>航天</td>\n",
       "    </tr>\n",
       "    <tr>\n",
       "      <th>2</th>\n",
       "      <td>No.3</td>\n",
       "      <td>￥ 8300 亿</td>\n",
       "      <td>蚂蚁集团</td>\n",
       "      <td>井贤栋</td>\n",
       "      <td>金融科技</td>\n",
       "    </tr>\n",
       "    <tr>\n",
       "      <th>3</th>\n",
       "      <td>No.4</td>\n",
       "      <td>￥ 4500 亿</td>\n",
       "      <td>Shein</td>\n",
       "      <td>许仰天</td>\n",
       "      <td>电子商务</td>\n",
       "    </tr>\n",
       "    <tr>\n",
       "      <th>4</th>\n",
       "      <td>No.5</td>\n",
       "      <td>￥ 3800 亿</td>\n",
       "      <td>Stripe</td>\n",
       "      <td>John Collison、Patrick Collison</td>\n",
       "      <td>金融科技</td>\n",
       "    </tr>\n",
       "  </tbody>\n",
       "</table>\n",
       "</div>"
      ],
      "text/plain": [
       "     排名       企业估值    企业信息                     掌门人 / 联合创始人    行业\n",
       "0  No.1  ￥ 13800 亿    字节跳动                             张一鸣  社交媒体\n",
       "1  No.2   ￥ 9450 亿  SpaceX                       Elon Musk    航天\n",
       "2  No.3   ￥ 8300 亿    蚂蚁集团                             井贤栋  金融科技\n",
       "3  No.4   ￥ 4500 亿   Shein                             许仰天  电子商务\n",
       "4  No.5   ￥ 3800 亿  Stripe  John Collison、Patrick Collison  金融科技"
      ]
     },
     "execution_count": 38,
     "metadata": {},
     "output_type": "execute_result"
    }
   ],
   "source": [
    "df = pd.DataFrame(data, columns=['排名', '企业估值', '企业信息', '掌门人 / 联合创始人', '行业'])\n",
    "df.head()"
   ]
  },
  {
   "cell_type": "code",
   "execution_count": 39,
   "metadata": {},
   "outputs": [
    {
     "data": {
      "text/html": [
       "<div>\n",
       "<style scoped>\n",
       "    .dataframe tbody tr th:only-of-type {\n",
       "        vertical-align: middle;\n",
       "    }\n",
       "\n",
       "    .dataframe tbody tr th {\n",
       "        vertical-align: top;\n",
       "    }\n",
       "\n",
       "    .dataframe thead th {\n",
       "        text-align: right;\n",
       "    }\n",
       "</style>\n",
       "<table border=\"1\" class=\"dataframe\">\n",
       "  <thead>\n",
       "    <tr style=\"text-align: right;\">\n",
       "      <th></th>\n",
       "      <th>排名</th>\n",
       "      <th>企业估值</th>\n",
       "      <th>企业信息</th>\n",
       "      <th>掌门人 / 联合创始人</th>\n",
       "      <th>行业</th>\n",
       "    </tr>\n",
       "  </thead>\n",
       "  <tbody>\n",
       "    <tr>\n",
       "      <th>0</th>\n",
       "      <td>1</td>\n",
       "      <td>13800</td>\n",
       "      <td>字节跳动</td>\n",
       "      <td>张一鸣</td>\n",
       "      <td>社交媒体</td>\n",
       "    </tr>\n",
       "    <tr>\n",
       "      <th>1</th>\n",
       "      <td>2</td>\n",
       "      <td>9450</td>\n",
       "      <td>SpaceX</td>\n",
       "      <td>Elon Musk</td>\n",
       "      <td>航天</td>\n",
       "    </tr>\n",
       "    <tr>\n",
       "      <th>2</th>\n",
       "      <td>3</td>\n",
       "      <td>8300</td>\n",
       "      <td>蚂蚁集团</td>\n",
       "      <td>井贤栋</td>\n",
       "      <td>金融科技</td>\n",
       "    </tr>\n",
       "    <tr>\n",
       "      <th>3</th>\n",
       "      <td>4</td>\n",
       "      <td>4500</td>\n",
       "      <td>Shein</td>\n",
       "      <td>许仰天</td>\n",
       "      <td>电子商务</td>\n",
       "    </tr>\n",
       "    <tr>\n",
       "      <th>4</th>\n",
       "      <td>5</td>\n",
       "      <td>3800</td>\n",
       "      <td>Stripe</td>\n",
       "      <td>John Collison、Patrick Collison</td>\n",
       "      <td>金融科技</td>\n",
       "    </tr>\n",
       "  </tbody>\n",
       "</table>\n",
       "</div>"
      ],
      "text/plain": [
       "   排名   企业估值    企业信息                     掌门人 / 联合创始人    行业\n",
       "0   1  13800    字节跳动                             张一鸣  社交媒体\n",
       "1   2   9450  SpaceX                       Elon Musk    航天\n",
       "2   3   8300    蚂蚁集团                             井贤栋  金融科技\n",
       "3   4   4500   Shein                             许仰天  电子商务\n",
       "4   5   3800  Stripe  John Collison、Patrick Collison  金融科技"
      ]
     },
     "execution_count": 39,
     "metadata": {},
     "output_type": "execute_result"
    }
   ],
   "source": [
    "df['排名'] = df['排名'].str.replace('No.', '').astype(int)\n",
    "df['企业估值'] = df['企业估值'].str.replace(r'[^0-9]', '', regex=True).astype(int)\n",
    "df.head()"
   ]
  },
  {
   "cell_type": "code",
   "execution_count": 33,
   "metadata": {},
   "outputs": [],
   "source": [
    "df.to_excel('unicorns.xlsx', index=False)"
   ]
  }
 ],
 "metadata": {
  "kernelspec": {
   "display_name": "Python 3",
   "language": "python",
   "name": "python3"
  },
  "language_info": {
   "codemirror_mode": {
    "name": "ipython",
    "version": 3
   },
   "file_extension": ".py",
   "mimetype": "text/x-python",
   "name": "python",
   "nbconvert_exporter": "python",
   "pygments_lexer": "ipython3",
   "version": "3.11.3"
  },
  "orig_nbformat": 4
 },
 "nbformat": 4,
 "nbformat_minor": 2
}
