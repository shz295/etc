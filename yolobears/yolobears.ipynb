{
 "cells": [
  {
   "attachments": {},
   "cell_type": "markdown",
   "metadata": {},
   "source": [
    "# Can YOLOv8 detect types of bears with a small custom dataset\n",
    "First load yolov8 nano from scratch and train it on the bears with 10 epochs and see what happens.\n",
    "The dataset is 38 images so it truly is very small. I labeled it myself."
   ]
  },
  {
   "cell_type": "code",
   "execution_count": null,
   "metadata": {},
   "outputs": [],
   "source": [
    "from ultralytics import YOLO\n",
    "\n",
    "# Load a model\n",
    "model = YOLO(\"yolov8n.yaml\")  # build a new model from scratch\n",
    "\n",
    "# Use the model\n",
    "model.train(data=\"config.yaml\", epochs=10)  # train the model\n"
   ]
  },
  {
   "attachments": {},
   "cell_type": "markdown",
   "metadata": {},
   "source": [
    "### prediction and actual labels (10)\n",
    "<img src=\"notebook_resource/train0_pred.jpg\" alt=\"prediction\" width=\"500\">\n",
    "\n",
    "<img src=\"notebook_resource/train0_labels.jpg\" alt=\"labels\" width=\"500\">\n",
    "\n",
    "It didn't predict anything at all. Maybe we need more training. Let's try ONE HUNDRED EPOCHS."
   ]
  },
  {
   "cell_type": "code",
   "execution_count": null,
   "metadata": {},
   "outputs": [],
   "source": [
    "model.train(data=\"config.yaml\", epochs=100)  # train the model"
   ]
  },
  {
   "attachments": {},
   "cell_type": "markdown",
   "metadata": {},
   "source": [
    "### prediction and actual labels (100 epochs)\n",
    "<img src=\"./runs/detect/train4/val_batch0_pred.jpg\" alt=\"prediction\" width=\"500\">\n",
    "\n",
    "<img src=\"./runs/detect/train4/val_batch0_labels.jpg\" alt=\"labels\" width=\"500\">\n",
    "<br>\n",
    "<img src=\"./runs/detect/train4/val_batch1_pred.jpg\" alt=\"prediction\" width=\"500\">\n",
    "\n",
    "<img src=\"./runs/detect/train4/val_batch1_labels.jpg\" alt=\"labels\" width=\"500\">\n",
    "\n",
    "\n",
    "It actually predicts some now, but not that great. Adding more data would probably help a lot but I don't want to do any more labelling. \n",
    "\n",
    "\n",
    "Let's try a pre-trained model and see how well it performs, first without fine tuning."
   ]
  },
  {
   "cell_type": "code",
   "execution_count": null,
   "metadata": {},
   "outputs": [],
   "source": [
    "model = YOLO(\"yolov8n.pt\")  # load a pretrained model\n",
    "model.val(data=\"config.yaml\") # try out the pretrained model"
   ]
  },
  {
   "attachments": {},
   "cell_type": "markdown",
   "metadata": {},
   "source": [
    "### prediction (pretrained model)\n",
    "<img src=\"./runs/detect/val2/val_batch0_pred.jpg\" alt=\"prediction\" width=\"500\">\n",
    "\n",
    "It detects bears pretty well already with a couple misclassifications. Now let's see how well it can detect bear types with the custom data."
   ]
  },
  {
   "cell_type": "code",
   "execution_count": null,
   "metadata": {},
   "outputs": [],
   "source": [
    "model.train(data=\"config.yaml\", epochs=10)"
   ]
  },
  {
   "attachments": {},
   "cell_type": "markdown",
   "metadata": {},
   "source": [
    "### prediction and actual labels (pretrained model, 10 epochs on custom set)\n",
    "<img src=\"./runs/detect/train6/val_batch0_pred.jpg\" alt=\"prediction\" width=\"500\">\n",
    "\n",
    "<img src=\"./runs/detect/train6/val_batch0_labels.jpg\" alt=\"labels\" width=\"500\">\n",
    "\n",
    "Nothing, just like in the model from scratch. Now again we try ONE HUNDRED EPOCHS."
   ]
  },
  {
   "cell_type": "code",
   "execution_count": null,
   "metadata": {},
   "outputs": [],
   "source": [
    "model.train(data=\"config.yaml\", epochs=100)"
   ]
  },
  {
   "attachments": {},
   "cell_type": "markdown",
   "metadata": {},
   "source": [
    "### prediction and actual labels (pretrained model, 100 epochs on custom set)\n",
    "<img src=\"./runs/detect/train7/val_batch0_pred.jpg\" alt=\"prediction\" width=\"500\">\n",
    "\n",
    "<img src=\"./runs/detect/train7/val_batch0_labels.jpg\" alt=\"labels\" width=\"500\">\n",
    "\n",
    "<br>\n",
    "\n",
    "<img src=\"./runs/detect/train7/confusion_matrix_normalized.png\" alt=\"confusion matrix (normalized)\" width=\"500\">\n",
    "\n",
    "<img src=\"./runs/detect/train7/results.png\" alt=\"results\" width=\"700\">\n",
    "\n",
    "It has absolutely perfect results.  But now I should let you know a secret: the validation set is part of the training set, so it's probably heavily overfitting.\n",
    "\n",
    "Let's try inference on some cute videos to see if it actually works."
   ]
  },
  {
   "cell_type": "code",
   "execution_count": 1,
   "metadata": {},
   "outputs": [
    {
     "name": "stdout",
     "output_type": "stream",
     "text": [
      "Requirement already satisfied: yt-dlp in c:\\program files\\python311\\lib\\site-packages (2023.7.6)\n",
      "Requirement already satisfied: mutagen in c:\\program files\\python311\\lib\\site-packages (from yt-dlp) (1.46.0)\n",
      "Requirement already satisfied: pycryptodomex in c:\\program files\\python311\\lib\\site-packages (from yt-dlp) (3.18.0)\n",
      "Requirement already satisfied: websockets in c:\\program files\\python311\\lib\\site-packages (from yt-dlp) (11.0.3)\n",
      "Requirement already satisfied: certifi in c:\\program files\\python311\\lib\\site-packages (from yt-dlp) (2023.5.7)\n",
      "Requirement already satisfied: brotli in c:\\program files\\python311\\lib\\site-packages (from yt-dlp) (1.0.9)\n",
      "Note: you may need to restart the kernel to use updated packages.\n"
     ]
    }
   ],
   "source": [
    "%pip install yt-dlp"
   ]
  },
  {
   "cell_type": "code",
   "execution_count": 30,
   "metadata": {},
   "outputs": [
    {
     "name": "stdout",
     "output_type": "stream",
     "text": [
      "[youtube] Extracting URL: https://www.youtube.com/watch?v=ylCIa-12ILk\n",
      "[youtube] ylCIa-12ILk: Downloading webpage\n",
      "[youtube] ylCIa-12ILk: Downloading ios player API JSON\n",
      "[youtube] ylCIa-12ILk: Downloading android player API JSON\n",
      "[youtube] ylCIa-12ILk: Downloading m3u8 information\n",
      "[info] ylCIa-12ILk: Downloading 1 format(s): 22\n",
      "[download] Destination: bears\\videos\\ylCIa-12ILk.mp4\n",
      "[download] 100% of   15.76MiB in 00:00:02 at 6.69MiB/s     \n",
      "[youtube] Extracting URL: https://www.youtube.com/watch?v=oUle-4E1qoQ\n",
      "[youtube] oUle-4E1qoQ: Downloading webpage\n",
      "[youtube] oUle-4E1qoQ: Downloading ios player API JSON\n",
      "[youtube] oUle-4E1qoQ: Downloading android player API JSON\n",
      "[youtube] oUle-4E1qoQ: Downloading m3u8 information\n",
      "[info] oUle-4E1qoQ: Downloading 1 format(s): 22\n",
      "[download] Destination: bears\\videos\\oUle-4E1qoQ.mp4\n",
      "[download] 100% of    1.87MiB in 00:00:00 at 4.88MiB/s   \n",
      "[youtube] Extracting URL: https://www.youtube.com/watch?v=UwbtyBEYiTQ\n",
      "[youtube] UwbtyBEYiTQ: Downloading webpage\n",
      "[youtube] UwbtyBEYiTQ: Downloading ios player API JSON\n",
      "[youtube] UwbtyBEYiTQ: Downloading android player API JSON\n",
      "[youtube] UwbtyBEYiTQ: Downloading m3u8 information\n",
      "[info] UwbtyBEYiTQ: Downloading 1 format(s): 22\n",
      "[download] Destination: bears\\videos\\UwbtyBEYiTQ.mp4\n",
      "[download] 100% of    1.72MiB in 00:00:00 at 4.72MiB/s   \n"
     ]
    }
   ],
   "source": [
    "from yt_dlp import YoutubeDL\n",
    "\n",
    "video_urls = [\n",
    "    'https://www.youtube.com/watch?v=ylCIa-12ILk',\n",
    "    'https://www.youtube.com/watch?v=oUle-4E1qoQ',\n",
    "    'https://www.youtube.com/watch?v=UwbtyBEYiTQ',\n",
    "\n",
    "]\n",
    "\n",
    "options = {\n",
    "    'outtmpl': 'bears/videos/%(id)s.%(ext)s',\n",
    "}\n",
    "\n",
    "with YoutubeDL(options) as ydl:\n",
    "    ydl.download(video_urls)"
   ]
  },
  {
   "cell_type": "code",
   "execution_count": 68,
   "metadata": {},
   "outputs": [
    {
     "data": {
      "text/plain": [
       "['oUle-4E1qoQ.mp4', 'out', 'UwbtyBEYiTQ.mp4', 'ylCIa-12ILk.mp4']"
      ]
     },
     "execution_count": 68,
     "metadata": {},
     "output_type": "execute_result"
    }
   ],
   "source": [
    "import os\n",
    "\n",
    "bear_vids_path = os.path.join('bears', 'videos')\n",
    "file_list = [file_name for file_name in os.listdir(bear_vids_path)]\n",
    "file_list"
   ]
  },
  {
   "cell_type": "code",
   "execution_count": null,
   "metadata": {},
   "outputs": [],
   "source": [
    "for file in file_list:\n",
    "    file_path = os.path.join(bear_vids_path, file) \n",
    "    out_path = os.path.join(bear_vids_path, \"out\", file) \n",
    "\n",
    "    cap = cv2.VideoCapture(file_path) \n",
    "\n",
    "    out = cv2.VideoWriter(\n",
    "        out_path,\n",
    "        cv2.VideoWriter_fourcc(*'avc1'), \n",
    "        cap.get(cv2.CAP_PROP_FPS), \n",
    "        (int(cap.get(cv2.CAP_PROP_FRAME_WIDTH)), \n",
    "        int(cap.get(cv2.CAP_PROP_FRAME_HEIGHT)))\n",
    "    )\n",
    "\n",
    "    while cap.isOpened(): \n",
    "        ret, frame = cap.read() \n",
    "\n",
    "        if not ret: \n",
    "            break\n",
    "\n",
    "        results = model(frame) \n",
    "        annotated_frame = results[0].plot()\n",
    "\n",
    "        out.write(annotated_frame)\n",
    "\n",
    "    cap.release()\n",
    "    out.release()\n"
   ]
  },
  {
   "attachments": {},
   "cell_type": "markdown",
   "metadata": {},
   "source": [
    "<div style=\"display: flex; justify-content: space-between; max-width: 1200px; margin: 0 auto;\">\n",
    "    <video controls style=\"width: 30%; max-height: 100%; border: 1px solid #ccc; box-sizing: border-box;\">\n",
    "        <source src=\"https://files.catbox.moe/jour4q.mp4\" type=\"video/mp4\">\n",
    "    </video>\n",
    "    <video controls style=\"width: 30%; max-height: 100%; border: 1px solid #ccc; box-sizing: border-box;\">\n",
    "        <source src=\"https://files.catbox.moe/5hfnkd.mp4\" type=\"video/mp4\">\n",
    "    </video>\n",
    "    <video controls style=\"width: 30%; max-height: 100%; border: 1px solid #ccc; box-sizing: border-box;\">\n",
    "        <source src=\"https://files.catbox.moe/zx9wkb.mp4\" type=\"video/mp4\">\n",
    "    </video>\n",
    "</div>"
   ]
  },
  {
   "attachments": {},
   "cell_type": "markdown",
   "metadata": {},
   "source": [
    "# Conclusion\n",
    "\n",
    "Pretty good for only having about 12 images per type of bear to train from. The middle video kept classifying the polar bear as a brown bear but I'm very impressed with the other two. "
   ]
  }
 ],
 "metadata": {
  "kernelspec": {
   "display_name": "PyPy3",
   "language": "python",
   "name": "pypy3"
  },
  "language_info": {
   "codemirror_mode": {
    "name": "ipython",
    "version": 3
   },
   "file_extension": ".py",
   "mimetype": "text/x-python",
   "name": "python",
   "nbconvert_exporter": "python",
   "pygments_lexer": "ipython3",
   "version": "3.11.3"
  },
  "orig_nbformat": 4
 },
 "nbformat": 4,
 "nbformat_minor": 2
}
